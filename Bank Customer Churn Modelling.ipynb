{
 "cells": [
  {
   "cell_type": "code",
   "execution_count": 212,
   "metadata": {},
   "outputs": [
    {
     "data": {
      "text/html": [
       "<div>\n",
       "<style scoped>\n",
       "    .dataframe tbody tr th:only-of-type {\n",
       "        vertical-align: middle;\n",
       "    }\n",
       "\n",
       "    .dataframe tbody tr th {\n",
       "        vertical-align: top;\n",
       "    }\n",
       "\n",
       "    .dataframe thead th {\n",
       "        text-align: right;\n",
       "    }\n",
       "</style>\n",
       "<table border=\"1\" class=\"dataframe\">\n",
       "  <thead>\n",
       "    <tr style=\"text-align: right;\">\n",
       "      <th></th>\n",
       "      <th>RowNumber</th>\n",
       "      <th>CustomerId</th>\n",
       "      <th>Surname</th>\n",
       "      <th>CreditScore</th>\n",
       "      <th>Geography</th>\n",
       "      <th>Gender</th>\n",
       "      <th>Age</th>\n",
       "      <th>Tenure</th>\n",
       "      <th>Balance</th>\n",
       "      <th>NumOfProducts</th>\n",
       "      <th>HasCrCard</th>\n",
       "      <th>IsActiveMember</th>\n",
       "      <th>EstimatedSalary</th>\n",
       "      <th>Exited</th>\n",
       "    </tr>\n",
       "  </thead>\n",
       "  <tbody>\n",
       "    <tr>\n",
       "      <th>0</th>\n",
       "      <td>1</td>\n",
       "      <td>15634602</td>\n",
       "      <td>Hargrave</td>\n",
       "      <td>619</td>\n",
       "      <td>France</td>\n",
       "      <td>Female</td>\n",
       "      <td>42</td>\n",
       "      <td>2</td>\n",
       "      <td>0.00</td>\n",
       "      <td>1</td>\n",
       "      <td>1</td>\n",
       "      <td>1</td>\n",
       "      <td>101348.88</td>\n",
       "      <td>1</td>\n",
       "    </tr>\n",
       "    <tr>\n",
       "      <th>1</th>\n",
       "      <td>2</td>\n",
       "      <td>15647311</td>\n",
       "      <td>Hill</td>\n",
       "      <td>608</td>\n",
       "      <td>Spain</td>\n",
       "      <td>Female</td>\n",
       "      <td>41</td>\n",
       "      <td>1</td>\n",
       "      <td>83807.86</td>\n",
       "      <td>1</td>\n",
       "      <td>0</td>\n",
       "      <td>1</td>\n",
       "      <td>112542.58</td>\n",
       "      <td>0</td>\n",
       "    </tr>\n",
       "    <tr>\n",
       "      <th>2</th>\n",
       "      <td>3</td>\n",
       "      <td>15619304</td>\n",
       "      <td>Onio</td>\n",
       "      <td>502</td>\n",
       "      <td>France</td>\n",
       "      <td>Female</td>\n",
       "      <td>42</td>\n",
       "      <td>8</td>\n",
       "      <td>159660.80</td>\n",
       "      <td>3</td>\n",
       "      <td>1</td>\n",
       "      <td>0</td>\n",
       "      <td>113931.57</td>\n",
       "      <td>1</td>\n",
       "    </tr>\n",
       "    <tr>\n",
       "      <th>3</th>\n",
       "      <td>4</td>\n",
       "      <td>15701354</td>\n",
       "      <td>Boni</td>\n",
       "      <td>699</td>\n",
       "      <td>France</td>\n",
       "      <td>Female</td>\n",
       "      <td>39</td>\n",
       "      <td>1</td>\n",
       "      <td>0.00</td>\n",
       "      <td>2</td>\n",
       "      <td>0</td>\n",
       "      <td>0</td>\n",
       "      <td>93826.63</td>\n",
       "      <td>0</td>\n",
       "    </tr>\n",
       "    <tr>\n",
       "      <th>4</th>\n",
       "      <td>5</td>\n",
       "      <td>15737888</td>\n",
       "      <td>Mitchell</td>\n",
       "      <td>850</td>\n",
       "      <td>Spain</td>\n",
       "      <td>Female</td>\n",
       "      <td>43</td>\n",
       "      <td>2</td>\n",
       "      <td>125510.82</td>\n",
       "      <td>1</td>\n",
       "      <td>1</td>\n",
       "      <td>1</td>\n",
       "      <td>79084.10</td>\n",
       "      <td>0</td>\n",
       "    </tr>\n",
       "  </tbody>\n",
       "</table>\n",
       "</div>"
      ],
      "text/plain": [
       "   RowNumber  CustomerId   Surname  CreditScore Geography  Gender  Age  \\\n",
       "0          1    15634602  Hargrave          619    France  Female   42   \n",
       "1          2    15647311      Hill          608     Spain  Female   41   \n",
       "2          3    15619304      Onio          502    France  Female   42   \n",
       "3          4    15701354      Boni          699    France  Female   39   \n",
       "4          5    15737888  Mitchell          850     Spain  Female   43   \n",
       "\n",
       "   Tenure    Balance  NumOfProducts  HasCrCard  IsActiveMember  \\\n",
       "0       2       0.00              1          1               1   \n",
       "1       1   83807.86              1          0               1   \n",
       "2       8  159660.80              3          1               0   \n",
       "3       1       0.00              2          0               0   \n",
       "4       2  125510.82              1          1               1   \n",
       "\n",
       "   EstimatedSalary  Exited  \n",
       "0        101348.88       1  \n",
       "1        112542.58       0  \n",
       "2        113931.57       1  \n",
       "3         93826.63       0  \n",
       "4         79084.10       0  "
      ]
     },
     "execution_count": 212,
     "metadata": {},
     "output_type": "execute_result"
    }
   ],
   "source": [
    "import pandas as pd\n",
    "import numpy as np\n",
    "import matplotlib.pyplot as plt\n",
    "import seaborn as sns\n",
    "df=pd.read_csv('Churn_Modelling.csv')\n",
    "df.head()"
   ]
  },
  {
   "cell_type": "code",
   "execution_count": 213,
   "metadata": {},
   "outputs": [
    {
     "data": {
      "image/png": "[encoded data removed]",
      "text/plain": [
       "<Figure size 720x576 with 1 Axes>"
      ]
     },
     "metadata": {},
     "output_type": "display_data"
    }
   ],
   "source": [
    "labels = 'Exited', 'Retained'\n",
    "sizes = [df.Exited[df['Exited']==1].count(), df.Exited[df['Exited']==0].count()]\n",
    "explode = (0, 0.1)\n",
    "fig1, ax1 = plt.subplots(figsize=(10, 8))\n",
    "ax1.pie(sizes, explode=explode, labels=labels, autopct='%1.1f%%',\n",
    "        shadow=True, startangle=90)\n",
    "ax1.axis('equal')\n",
    "plt.title(\"Proportion of customer churned and retained\", size = 20)\n",
    "plt.show()"
   ]
  },
  {
   "cell_type": "markdown",
   "metadata": {},
   "source": [
    "So about 20% of the customers have churned. So the baseline model could be to predict that 20% of the customers will churn. Given 20% is a small number, we need to ensure that the chosen model does predict with great accuracy this 20% as it is of interest to the bank to identify and keep this bunch as opposed to accurately predicting the customers that are retained.\n",
    "\n"
   ]
  },
  {
   "cell_type": "code",
   "execution_count": 214,
   "metadata": {},
   "outputs": [
    {
     "data": {
      "text/plain": [
       "<AxesSubplot:xlabel='IsActiveMember', ylabel='count'>"
      ]
     },
     "execution_count": 214,
     "metadata": {},
     "output_type": "execute_result"
    },
    {
     "data": {
      "image/png": "[encoded data removed]",
      "text/plain": [
       "<Figure size 1440x864 with 4 Axes>"
      ]
     },
     "metadata": {
      "needs_background": "light"
     },
     "output_type": "display_data"
    }
   ],
   "source": [
    "# We first review the 'Status' relation with categorical variables\n",
    "fig, axarr = plt.subplots(2, 2, figsize=(20, 12))\n",
    "sns.countplot(x='Geography', hue = 'Exited',data = df, ax=axarr[0][0])\n",
    "sns.countplot(x='Gender', hue = 'Exited',data = df, ax=axarr[0][1])\n",
    "sns.countplot(x='HasCrCard', hue = 'Exited',data = df, ax=axarr[1][0])\n",
    "sns.countplot(x='IsActiveMember', hue = 'Exited',data = df, ax=axarr[1][1])"
   ]
  },
  {
   "cell_type": "markdown",
   "metadata": {},
   "source": [
    "We note the following:\n",
    "\n",
    "- Majority of the data is from persons from France & Germany. However, the proportion of churned customers is with inversely related to the population of customers alluding to the bank possibly having a problem (maybe not enough customer service resources allocated) in the areas where it has fewer clients.\n",
    "\n",
    "- The proportion of female customers churning is also greater than that of male customers.\n",
    "\n",
    "- Interestingly, majority of the customers that churned are those with credit cards. Given that majority of the customers have credit cards could prove this to be just a coincidence.\n",
    "\n",
    "- Unsurprisingly the inactive members have a greater churn. Worryingly is that the overall proportion of inactive mebers is quite high suggesting that the bank may need a program implemented to turn this group to active customers as this will definately have a positive impact on the customer churn."
   ]
  },
  {
   "cell_type": "code",
   "execution_count": 217,
   "metadata": {},
   "outputs": [
    {
     "data": {
      "text/plain": [
       "<AxesSubplot:xlabel='Exited', ylabel='EstimatedSalary'>"
      ]
     },
     "execution_count": 217,
     "metadata": {},
     "output_type": "execute_result"
    },
    {
     "data": {
      "image/png": "[encoded data removed]",
      "text/plain": [
       "<Figure size 1440x864 with 6 Axes>"
      ]
     },
     "metadata": {
      "needs_background": "light"
     },
     "output_type": "display_data"
    }
   ],
   "source": [
    "# Relations based on the continuous data attributes\n",
    "fig, axarr = plt.subplots(3, 2, figsize=(20, 12))\n",
    "sns.boxplot(y='CreditScore',x = 'Exited', hue = 'Exited',data = df, ax=axarr[0][0])\n",
    "sns.boxplot(y='Age',x = 'Exited', hue = 'Exited',data = df , ax=axarr[0][1])\n",
    "sns.boxplot(y='Tenure',x = 'Exited', hue = 'Exited',data = df, ax=axarr[1][0])\n",
    "sns.boxplot(y='Balance',x = 'Exited', hue = 'Exited',data = df, ax=axarr[1][1])\n",
    "sns.boxplot(y='NumOfProducts',x = 'Exited', hue = 'Exited',data = df, ax=axarr[2][0])\n",
    "sns.boxplot(y='EstimatedSalary',x = 'Exited', hue = 'Exited',data = df, ax=axarr[2][1])\n"
   ]
  },
  {
   "cell_type": "markdown",
   "metadata": {},
   "source": [
    "We note the following:\n",
    "\n",
    "- There is no significant difference in the credit score distribution between retained and churned customers.\n",
    "- The older customers are churning at more than the younger ones alluding to a difference in service preference in the age categories. The bank may need to review their target market or review the strategy for retention between the different age groups\n",
    "- With regard to the tenure, the clients on either extreme end (spent little time with the bank or a lot of time with the bank) are more likely to churn compared to those that are of average tenure.\n",
    "- Worryingly, the bank is losing customers with significant bank balances which is likely to hit their available capital for lending.\n",
    "- Neither the product nor the salary has a significant effect on the likelihood to churn."
   ]
  },
  {
   "cell_type": "code",
   "execution_count": 33,
   "metadata": {},
   "outputs": [],
   "source": [
    "df.drop(['RowNumber','CustomerId','Surname'],axis=1,inplace=True)"
   ]
  },
  {
   "cell_type": "code",
   "execution_count": 34,
   "metadata": {},
   "outputs": [
    {
     "data": {
      "text/plain": [
       "(7963, 11)"
      ]
     },
     "execution_count": 34,
     "metadata": {},
     "output_type": "execute_result"
    }
   ],
   "source": [
    "df[df.Exited==0].shape"
   ]
  },
  {
   "cell_type": "code",
   "execution_count": 35,
   "metadata": {},
   "outputs": [
    {
     "data": {
      "text/plain": [
       "(2037, 11)"
      ]
     },
     "execution_count": 35,
     "metadata": {},
     "output_type": "execute_result"
    }
   ],
   "source": [
    "df[df.Exited==1].shape"
   ]
  },
  {
   "cell_type": "code",
   "execution_count": 36,
   "metadata": {},
   "outputs": [],
   "source": [
    "df['Gender'].replace({'Female':0,'Male':1},inplace=True)"
   ]
  },
  {
   "cell_type": "code",
   "execution_count": 37,
   "metadata": {},
   "outputs": [],
   "source": [
    "df=pd.get_dummies(df,columns=['Geography'])"
   ]
  },
  {
   "cell_type": "code",
   "execution_count": 43,
   "metadata": {},
   "outputs": [
    {
     "data": {
      "text/html": [
       "<div>\n",
       "<style scoped>\n",
       "    .dataframe tbody tr th:only-of-type {\n",
       "        vertical-align: middle;\n",
       "    }\n",
       "\n",
       "    .dataframe tbody tr th {\n",
       "        vertical-align: top;\n",
       "    }\n",
       "\n",
       "    .dataframe thead th {\n",
       "        text-align: right;\n",
       "    }\n",
       "</style>\n",
       "<table border=\"1\" class=\"dataframe\">\n",
       "  <thead>\n",
       "    <tr style=\"text-align: right;\">\n",
       "      <th></th>\n",
       "      <th>CreditScore</th>\n",
       "      <th>Gender</th>\n",
       "      <th>Age</th>\n",
       "      <th>Tenure</th>\n",
       "      <th>Balance</th>\n",
       "      <th>NumOfProducts</th>\n",
       "      <th>HasCrCard</th>\n",
       "      <th>IsActiveMember</th>\n",
       "      <th>EstimatedSalary</th>\n",
       "      <th>Exited</th>\n",
       "      <th>Geography_France</th>\n",
       "      <th>Geography_Germany</th>\n",
       "      <th>Geography_Spain</th>\n",
       "    </tr>\n",
       "  </thead>\n",
       "  <tbody>\n",
       "    <tr>\n",
       "      <th>0</th>\n",
       "      <td>619</td>\n",
       "      <td>0</td>\n",
       "      <td>42</td>\n",
       "      <td>2</td>\n",
       "      <td>0.00</td>\n",
       "      <td>1</td>\n",
       "      <td>1</td>\n",
       "      <td>1</td>\n",
       "      <td>101348.88</td>\n",
       "      <td>1</td>\n",
       "      <td>1</td>\n",
       "      <td>0</td>\n",
       "      <td>0</td>\n",
       "    </tr>\n",
       "    <tr>\n",
       "      <th>1</th>\n",
       "      <td>608</td>\n",
       "      <td>0</td>\n",
       "      <td>41</td>\n",
       "      <td>1</td>\n",
       "      <td>83807.86</td>\n",
       "      <td>1</td>\n",
       "      <td>0</td>\n",
       "      <td>1</td>\n",
       "      <td>112542.58</td>\n",
       "      <td>0</td>\n",
       "      <td>0</td>\n",
       "      <td>0</td>\n",
       "      <td>1</td>\n",
       "    </tr>\n",
       "    <tr>\n",
       "      <th>2</th>\n",
       "      <td>502</td>\n",
       "      <td>0</td>\n",
       "      <td>42</td>\n",
       "      <td>8</td>\n",
       "      <td>159660.80</td>\n",
       "      <td>3</td>\n",
       "      <td>1</td>\n",
       "      <td>0</td>\n",
       "      <td>113931.57</td>\n",
       "      <td>1</td>\n",
       "      <td>1</td>\n",
       "      <td>0</td>\n",
       "      <td>0</td>\n",
       "    </tr>\n",
       "    <tr>\n",
       "      <th>3</th>\n",
       "      <td>699</td>\n",
       "      <td>0</td>\n",
       "      <td>39</td>\n",
       "      <td>1</td>\n",
       "      <td>0.00</td>\n",
       "      <td>2</td>\n",
       "      <td>0</td>\n",
       "      <td>0</td>\n",
       "      <td>93826.63</td>\n",
       "      <td>0</td>\n",
       "      <td>1</td>\n",
       "      <td>0</td>\n",
       "      <td>0</td>\n",
       "    </tr>\n",
       "    <tr>\n",
       "      <th>4</th>\n",
       "      <td>850</td>\n",
       "      <td>0</td>\n",
       "      <td>43</td>\n",
       "      <td>2</td>\n",
       "      <td>125510.82</td>\n",
       "      <td>1</td>\n",
       "      <td>1</td>\n",
       "      <td>1</td>\n",
       "      <td>79084.10</td>\n",
       "      <td>0</td>\n",
       "      <td>0</td>\n",
       "      <td>0</td>\n",
       "      <td>1</td>\n",
       "    </tr>\n",
       "  </tbody>\n",
       "</table>\n",
       "</div>"
      ],
      "text/plain": [
       "   CreditScore  Gender  Age  Tenure    Balance  NumOfProducts  HasCrCard  \\\n",
       "0          619       0   42       2       0.00              1          1   \n",
       "1          608       0   41       1   83807.86              1          0   \n",
       "2          502       0   42       8  159660.80              3          1   \n",
       "3          699       0   39       1       0.00              2          0   \n",
       "4          850       0   43       2  125510.82              1          1   \n",
       "\n",
       "   IsActiveMember  EstimatedSalary  Exited  Geography_France  \\\n",
       "0               1        101348.88       1                 1   \n",
       "1               1        112542.58       0                 0   \n",
       "2               0        113931.57       1                 1   \n",
       "3               0         93826.63       0                 1   \n",
       "4               1         79084.10       0                 0   \n",
       "\n",
       "   Geography_Germany  Geography_Spain  \n",
       "0                  0                0  \n",
       "1                  0                1  \n",
       "2                  0                0  \n",
       "3                  0                0  \n",
       "4                  0                1  "
      ]
     },
     "execution_count": 43,
     "metadata": {},
     "output_type": "execute_result"
    }
   ],
   "source": [
    "df.head()"
   ]
  },
  {
   "cell_type": "code",
   "execution_count": 46,
   "metadata": {},
   "outputs": [],
   "source": [
    "df.drop('Geography_Spain',axis=1,inplace=True)"
   ]
  },
  {
   "cell_type": "code",
   "execution_count": 47,
   "metadata": {},
   "outputs": [
    {
     "data": {
      "text/html": [
       "<div>\n",
       "<style scoped>\n",
       "    .dataframe tbody tr th:only-of-type {\n",
       "        vertical-align: middle;\n",
       "    }\n",
       "\n",
       "    .dataframe tbody tr th {\n",
       "        vertical-align: top;\n",
       "    }\n",
       "\n",
       "    .dataframe thead th {\n",
       "        text-align: right;\n",
       "    }\n",
       "</style>\n",
       "<table border=\"1\" class=\"dataframe\">\n",
       "  <thead>\n",
       "    <tr style=\"text-align: right;\">\n",
       "      <th></th>\n",
       "      <th>CreditScore</th>\n",
       "      <th>Gender</th>\n",
       "      <th>Age</th>\n",
       "      <th>Tenure</th>\n",
       "      <th>Balance</th>\n",
       "      <th>NumOfProducts</th>\n",
       "      <th>HasCrCard</th>\n",
       "      <th>IsActiveMember</th>\n",
       "      <th>EstimatedSalary</th>\n",
       "      <th>Exited</th>\n",
       "      <th>Geography_France</th>\n",
       "      <th>Geography_Germany</th>\n",
       "    </tr>\n",
       "  </thead>\n",
       "  <tbody>\n",
       "    <tr>\n",
       "      <th>0</th>\n",
       "      <td>619</td>\n",
       "      <td>0</td>\n",
       "      <td>42</td>\n",
       "      <td>2</td>\n",
       "      <td>0.00</td>\n",
       "      <td>1</td>\n",
       "      <td>1</td>\n",
       "      <td>1</td>\n",
       "      <td>101348.88</td>\n",
       "      <td>1</td>\n",
       "      <td>1</td>\n",
       "      <td>0</td>\n",
       "    </tr>\n",
       "    <tr>\n",
       "      <th>1</th>\n",
       "      <td>608</td>\n",
       "      <td>0</td>\n",
       "      <td>41</td>\n",
       "      <td>1</td>\n",
       "      <td>83807.86</td>\n",
       "      <td>1</td>\n",
       "      <td>0</td>\n",
       "      <td>1</td>\n",
       "      <td>112542.58</td>\n",
       "      <td>0</td>\n",
       "      <td>0</td>\n",
       "      <td>0</td>\n",
       "    </tr>\n",
       "    <tr>\n",
       "      <th>2</th>\n",
       "      <td>502</td>\n",
       "      <td>0</td>\n",
       "      <td>42</td>\n",
       "      <td>8</td>\n",
       "      <td>159660.80</td>\n",
       "      <td>3</td>\n",
       "      <td>1</td>\n",
       "      <td>0</td>\n",
       "      <td>113931.57</td>\n",
       "      <td>1</td>\n",
       "      <td>1</td>\n",
       "      <td>0</td>\n",
       "    </tr>\n",
       "    <tr>\n",
       "      <th>3</th>\n",
       "      <td>699</td>\n",
       "      <td>0</td>\n",
       "      <td>39</td>\n",
       "      <td>1</td>\n",
       "      <td>0.00</td>\n",
       "      <td>2</td>\n",
       "      <td>0</td>\n",
       "      <td>0</td>\n",
       "      <td>93826.63</td>\n",
       "      <td>0</td>\n",
       "      <td>1</td>\n",
       "      <td>0</td>\n",
       "    </tr>\n",
       "    <tr>\n",
       "      <th>4</th>\n",
       "      <td>850</td>\n",
       "      <td>0</td>\n",
       "      <td>43</td>\n",
       "      <td>2</td>\n",
       "      <td>125510.82</td>\n",
       "      <td>1</td>\n",
       "      <td>1</td>\n",
       "      <td>1</td>\n",
       "      <td>79084.10</td>\n",
       "      <td>0</td>\n",
       "      <td>0</td>\n",
       "      <td>0</td>\n",
       "    </tr>\n",
       "  </tbody>\n",
       "</table>\n",
       "</div>"
      ],
      "text/plain": [
       "   CreditScore  Gender  Age  Tenure    Balance  NumOfProducts  HasCrCard  \\\n",
       "0          619       0   42       2       0.00              1          1   \n",
       "1          608       0   41       1   83807.86              1          0   \n",
       "2          502       0   42       8  159660.80              3          1   \n",
       "3          699       0   39       1       0.00              2          0   \n",
       "4          850       0   43       2  125510.82              1          1   \n",
       "\n",
       "   IsActiveMember  EstimatedSalary  Exited  Geography_France  \\\n",
       "0               1        101348.88       1                 1   \n",
       "1               1        112542.58       0                 0   \n",
       "2               0        113931.57       1                 1   \n",
       "3               0         93826.63       0                 1   \n",
       "4               1         79084.10       0                 0   \n",
       "\n",
       "   Geography_Germany  \n",
       "0                  0  \n",
       "1                  0  \n",
       "2                  0  \n",
       "3                  0  \n",
       "4                  0  "
      ]
     },
     "execution_count": 47,
     "metadata": {},
     "output_type": "execute_result"
    }
   ],
   "source": [
    "df.head()"
   ]
  },
  {
   "cell_type": "code",
   "execution_count": 48,
   "metadata": {},
   "outputs": [],
   "source": [
    "cols_to_scale=['CreditScore','Age','Balance','EstimatedSalary']"
   ]
  },
  {
   "cell_type": "code",
   "execution_count": 49,
   "metadata": {},
   "outputs": [],
   "source": [
    "from sklearn.preprocessing import MinMaxScaler\n",
    "scaler=MinMaxScaler()\n",
    "df[cols_to_scale]=scaler.fit_transform(df[cols_to_scale])"
   ]
  },
  {
   "cell_type": "code",
   "execution_count": 50,
   "metadata": {},
   "outputs": [
    {
     "data": {
      "text/html": [
       "<div>\n",
       "<style scoped>\n",
       "    .dataframe tbody tr th:only-of-type {\n",
       "        vertical-align: middle;\n",
       "    }\n",
       "\n",
       "    .dataframe tbody tr th {\n",
       "        vertical-align: top;\n",
       "    }\n",
       "\n",
       "    .dataframe thead th {\n",
       "        text-align: right;\n",
       "    }\n",
       "</style>\n",
       "<table border=\"1\" class=\"dataframe\">\n",
       "  <thead>\n",
       "    <tr style=\"text-align: right;\">\n",
       "      <th></th>\n",
       "      <th>CreditScore</th>\n",
       "      <th>Gender</th>\n",
       "      <th>Age</th>\n",
       "      <th>Tenure</th>\n",
       "      <th>Balance</th>\n",
       "      <th>NumOfProducts</th>\n",
       "      <th>HasCrCard</th>\n",
       "      <th>IsActiveMember</th>\n",
       "      <th>EstimatedSalary</th>\n",
       "      <th>Exited</th>\n",
       "      <th>Geography_France</th>\n",
       "      <th>Geography_Germany</th>\n",
       "    </tr>\n",
       "  </thead>\n",
       "  <tbody>\n",
       "    <tr>\n",
       "      <th>0</th>\n",
       "      <td>0.538</td>\n",
       "      <td>0</td>\n",
       "      <td>0.324324</td>\n",
       "      <td>2</td>\n",
       "      <td>0.000000</td>\n",
       "      <td>1</td>\n",
       "      <td>1</td>\n",
       "      <td>1</td>\n",
       "      <td>0.506735</td>\n",
       "      <td>1</td>\n",
       "      <td>1</td>\n",
       "      <td>0</td>\n",
       "    </tr>\n",
       "    <tr>\n",
       "      <th>1</th>\n",
       "      <td>0.516</td>\n",
       "      <td>0</td>\n",
       "      <td>0.310811</td>\n",
       "      <td>1</td>\n",
       "      <td>0.334031</td>\n",
       "      <td>1</td>\n",
       "      <td>0</td>\n",
       "      <td>1</td>\n",
       "      <td>0.562709</td>\n",
       "      <td>0</td>\n",
       "      <td>0</td>\n",
       "      <td>0</td>\n",
       "    </tr>\n",
       "    <tr>\n",
       "      <th>2</th>\n",
       "      <td>0.304</td>\n",
       "      <td>0</td>\n",
       "      <td>0.324324</td>\n",
       "      <td>8</td>\n",
       "      <td>0.636357</td>\n",
       "      <td>3</td>\n",
       "      <td>1</td>\n",
       "      <td>0</td>\n",
       "      <td>0.569654</td>\n",
       "      <td>1</td>\n",
       "      <td>1</td>\n",
       "      <td>0</td>\n",
       "    </tr>\n",
       "    <tr>\n",
       "      <th>3</th>\n",
       "      <td>0.698</td>\n",
       "      <td>0</td>\n",
       "      <td>0.283784</td>\n",
       "      <td>1</td>\n",
       "      <td>0.000000</td>\n",
       "      <td>2</td>\n",
       "      <td>0</td>\n",
       "      <td>0</td>\n",
       "      <td>0.469120</td>\n",
       "      <td>0</td>\n",
       "      <td>1</td>\n",
       "      <td>0</td>\n",
       "    </tr>\n",
       "    <tr>\n",
       "      <th>4</th>\n",
       "      <td>1.000</td>\n",
       "      <td>0</td>\n",
       "      <td>0.337838</td>\n",
       "      <td>2</td>\n",
       "      <td>0.500246</td>\n",
       "      <td>1</td>\n",
       "      <td>1</td>\n",
       "      <td>1</td>\n",
       "      <td>0.395400</td>\n",
       "      <td>0</td>\n",
       "      <td>0</td>\n",
       "      <td>0</td>\n",
       "    </tr>\n",
       "  </tbody>\n",
       "</table>\n",
       "</div>"
      ],
      "text/plain": [
       "   CreditScore  Gender       Age  Tenure   Balance  NumOfProducts  HasCrCard  \\\n",
       "0        0.538       0  0.324324       2  0.000000              1          1   \n",
       "1        0.516       0  0.310811       1  0.334031              1          0   \n",
       "2        0.304       0  0.324324       8  0.636357              3          1   \n",
       "3        0.698       0  0.283784       1  0.000000              2          0   \n",
       "4        1.000       0  0.337838       2  0.500246              1          1   \n",
       "\n",
       "   IsActiveMember  EstimatedSalary  Exited  Geography_France  \\\n",
       "0               1         0.506735       1                 1   \n",
       "1               1         0.562709       0                 0   \n",
       "2               0         0.569654       1                 1   \n",
       "3               0         0.469120       0                 1   \n",
       "4               1         0.395400       0                 0   \n",
       "\n",
       "   Geography_Germany  \n",
       "0                  0  \n",
       "1                  0  \n",
       "2                  0  \n",
       "3                  0  \n",
       "4                  0  "
      ]
     },
     "execution_count": 50,
     "metadata": {},
     "output_type": "execute_result"
    }
   ],
   "source": [
    "df.head()"
   ]
  },
  {
   "cell_type": "code",
   "execution_count": 51,
   "metadata": {},
   "outputs": [],
   "source": [
    "X=df.drop(['Exited'],axis=1)\n",
    "y=df['Exited']"
   ]
  },
  {
   "cell_type": "code",
   "execution_count": 60,
   "metadata": {},
   "outputs": [],
   "source": [
    "from sklearn.model_selection import train_test_split\n",
    "from sklearn.metrics import classification_report\n",
    "X_train,X_test,y_train,y_test=train_test_split(X,y,random_state=0,test_size=0.2)"
   ]
  },
  {
   "cell_type": "code",
   "execution_count": 61,
   "metadata": {},
   "outputs": [
    {
     "data": {
      "text/plain": [
       "(8000, 11)"
      ]
     },
     "execution_count": 61,
     "metadata": {},
     "output_type": "execute_result"
    }
   ],
   "source": [
    "X_train.shape"
   ]
  },
  {
   "cell_type": "code",
   "execution_count": 62,
   "metadata": {},
   "outputs": [
    {
     "data": {
      "text/plain": [
       "(2000, 11)"
      ]
     },
     "execution_count": 62,
     "metadata": {},
     "output_type": "execute_result"
    }
   ],
   "source": [
    "X_test.shape"
   ]
  },
  {
   "cell_type": "code",
   "execution_count": 63,
   "metadata": {},
   "outputs": [],
   "source": [
    "import tensorflow as tf\n",
    "from tensorflow import keras"
   ]
  },
  {
   "cell_type": "code",
   "execution_count": 64,
   "metadata": {},
   "outputs": [],
   "source": [
    "def ANN(X_train,y_train,X_test,y_test,loss,weights):\n",
    "\n",
    "    model=keras.Sequential([\n",
    "        keras.layers.Dense(20,input_shape=(11,),activation='relu'),\n",
    "        keras.layers.Dense(40,activation='relu'),\n",
    "        keras.layers.Dense(80,activation='relu'),\n",
    "        keras.layers.Dense(40,activation='relu'),\n",
    "        keras.layers.Dense(20,activation='relu'),\n",
    "        keras.layers.Dense(1,activation='sigmoid')\n",
    "    ])\n",
    "\n",
    "    model.compile(optimizer='adam',\n",
    "                  loss=loss,\n",
    "                  metrics=['accuracy'])\n",
    "    if weights==-1:\n",
    "        model.fit(X_train,y_train,epochs=100)\n",
    "    else:\n",
    "        model.fit(X_train,y_train,epochs=100,class_weight=weights)\n",
    "        \n",
    "    print(model.evaluate(X_test,y_test))\n",
    "    \n",
    "    y_pred=model.predict(X_test)\n",
    "    y_pred=np.round(y_pred)\n",
    "    \n",
    "    print('Classification Report: \\n',classification_report(y_test,y_pred))\n",
    "    \n",
    "    return y_pred\n"
   ]
  },
  {
   "cell_type": "code",
   "execution_count": 79,
   "metadata": {},
   "outputs": [
    {
     "name": "stdout",
     "output_type": "stream",
     "text": [
      "Epoch 1/100\n",
      "8000/8000 [==============================] - 0s 51us/sample - loss: 0.5061 - acc: 0.7910\n",
      "Epoch 2/100\n",
      "8000/8000 [==============================] - 0s 35us/sample - loss: 0.4661 - acc: 0.7989\n",
      "Epoch 3/100\n",
      "8000/8000 [==============================] - 0s 34us/sample - loss: 0.4494 - acc: 0.8029\n",
      "Epoch 4/100\n",
      "8000/8000 [==============================] - 0s 35us/sample - loss: 0.4256 - acc: 0.8185\n",
      "Epoch 5/100\n",
      "8000/8000 [==============================] - 0s 35us/sample - loss: 0.4052 - acc: 0.8259\n",
      "Epoch 6/100\n",
      "8000/8000 [==============================] - 0s 35us/sample - loss: 0.3894 - acc: 0.8339\n",
      "Epoch 7/100\n",
      "8000/8000 [==============================] - 0s 35us/sample - loss: 0.3796 - acc: 0.8382\n",
      "Epoch 8/100\n",
      "8000/8000 [==============================] - 0s 36us/sample - loss: 0.3757 - acc: 0.8413\n",
      "Epoch 9/100\n",
      "8000/8000 [==============================] - 0s 35us/sample - loss: 0.3700 - acc: 0.8436\n",
      "Epoch 10/100\n",
      "8000/8000 [==============================] - 0s 35us/sample - loss: 0.3629 - acc: 0.8499\n",
      "Epoch 11/100\n",
      "8000/8000 [==============================] - 0s 35us/sample - loss: 0.3590 - acc: 0.8499\n",
      "Epoch 12/100\n",
      "8000/8000 [==============================] - 0s 35us/sample - loss: 0.3577 - acc: 0.8510\n",
      "Epoch 13/100\n",
      "8000/8000 [==============================] - 0s 35us/sample - loss: 0.3558 - acc: 0.8500\n",
      "Epoch 14/100\n",
      "8000/8000 [==============================] - 0s 35us/sample - loss: 0.3530 - acc: 0.8547\n",
      "Epoch 15/100\n",
      "8000/8000 [==============================] - 0s 35us/sample - loss: 0.3544 - acc: 0.8545\n",
      "Epoch 16/100\n",
      "8000/8000 [==============================] - 0s 35us/sample - loss: 0.3513 - acc: 0.8549\n",
      "Epoch 17/100\n",
      "8000/8000 [==============================] - 0s 35us/sample - loss: 0.3489 - acc: 0.8568\n",
      "Epoch 18/100\n",
      "8000/8000 [==============================] - 0s 35us/sample - loss: 0.3501 - acc: 0.8555\n",
      "Epoch 19/100\n",
      "8000/8000 [==============================] - 0s 35us/sample - loss: 0.3469 - acc: 0.8566\n",
      "Epoch 20/100\n",
      "8000/8000 [==============================] - 0s 35us/sample - loss: 0.3478 - acc: 0.8550\n",
      "Epoch 21/100\n",
      "8000/8000 [==============================] - 0s 35us/sample - loss: 0.3427 - acc: 0.8587\n",
      "Epoch 22/100\n",
      "8000/8000 [==============================] - 0s 35us/sample - loss: 0.3413 - acc: 0.8596\n",
      "Epoch 23/100\n",
      "8000/8000 [==============================] - 0s 35us/sample - loss: 0.3411 - acc: 0.8611\n",
      "Epoch 24/100\n",
      "8000/8000 [==============================] - 0s 35us/sample - loss: 0.3367 - acc: 0.8639\n",
      "Epoch 25/100\n",
      "8000/8000 [==============================] - 0s 34us/sample - loss: 0.3370 - acc: 0.8610\n",
      "Epoch 26/100\n",
      "8000/8000 [==============================] - 0s 35us/sample - loss: 0.3344 - acc: 0.8593\n",
      "Epoch 27/100\n",
      "8000/8000 [==============================] - 0s 35us/sample - loss: 0.3359 - acc: 0.8644\n",
      "Epoch 28/100\n",
      "8000/8000 [==============================] - 0s 35us/sample - loss: 0.3317 - acc: 0.8643\n",
      "Epoch 29/100\n",
      "8000/8000 [==============================] - 0s 36us/sample - loss: 0.3321 - acc: 0.8636\n",
      "Epoch 30/100\n",
      "8000/8000 [==============================] - 0s 35us/sample - loss: 0.3288 - acc: 0.8656\n",
      "Epoch 31/100\n",
      "8000/8000 [==============================] - 0s 35us/sample - loss: 0.3289 - acc: 0.8652\n",
      "Epoch 32/100\n",
      "8000/8000 [==============================] - 0s 36us/sample - loss: 0.3269 - acc: 0.8640\n",
      "Epoch 33/100\n",
      "8000/8000 [==============================] - 0s 40us/sample - loss: 0.3281 - acc: 0.8673\n",
      "Epoch 34/100\n",
      "8000/8000 [==============================] - 0s 35us/sample - loss: 0.3252 - acc: 0.8668\n",
      "Epoch 35/100\n",
      "8000/8000 [==============================] - 0s 35us/sample - loss: 0.3246 - acc: 0.8676\n",
      "Epoch 36/100\n",
      "8000/8000 [==============================] - 0s 35us/sample - loss: 0.3231 - acc: 0.8675\n",
      "Epoch 37/100\n",
      "8000/8000 [==============================] - 0s 39us/sample - loss: 0.3240 - acc: 0.8673\n",
      "Epoch 38/100\n",
      "8000/8000 [==============================] - 0s 36us/sample - loss: 0.3231 - acc: 0.8652\n",
      "Epoch 39/100\n",
      "8000/8000 [==============================] - 0s 35us/sample - loss: 0.3214 - acc: 0.8675\n",
      "Epoch 40/100\n",
      "8000/8000 [==============================] - 0s 35us/sample - loss: 0.3191 - acc: 0.8698\n",
      "Epoch 41/100\n",
      "8000/8000 [==============================] - 0s 36us/sample - loss: 0.3197 - acc: 0.8699\n",
      "Epoch 42/100\n",
      "8000/8000 [==============================] - 0s 41us/sample - loss: 0.3189 - acc: 0.8711\n",
      "Epoch 43/100\n",
      "8000/8000 [==============================] - 0s 39us/sample - loss: 0.3182 - acc: 0.8701\n",
      "Epoch 44/100\n",
      "8000/8000 [==============================] - 0s 36us/sample - loss: 0.3158 - acc: 0.8716\n",
      "Epoch 45/100\n",
      "8000/8000 [==============================] - 0s 38us/sample - loss: 0.3169 - acc: 0.8711\n",
      "Epoch 46/100\n",
      "8000/8000 [==============================] - 0s 36us/sample - loss: 0.3157 - acc: 0.8694\n",
      "Epoch 47/100\n",
      "8000/8000 [==============================] - 0s 35us/sample - loss: 0.3132 - acc: 0.8740\n",
      "Epoch 48/100\n",
      "8000/8000 [==============================] - 0s 35us/sample - loss: 0.3152 - acc: 0.8727\n",
      "Epoch 49/100\n",
      "8000/8000 [==============================] - 0s 35us/sample - loss: 0.3139 - acc: 0.8714\n",
      "Epoch 50/100\n",
      "8000/8000 [==============================] - 0s 34us/sample - loss: 0.3109 - acc: 0.8735\n",
      "Epoch 51/100\n",
      "8000/8000 [==============================] - 0s 35us/sample - loss: 0.3104 - acc: 0.8716\n",
      "Epoch 52/100\n",
      "8000/8000 [==============================] - 0s 35us/sample - loss: 0.3085 - acc: 0.8731\n",
      "Epoch 53/100\n",
      "8000/8000 [==============================] - 0s 35us/sample - loss: 0.3095 - acc: 0.8752\n",
      "Epoch 54/100\n",
      "8000/8000 [==============================] - 0s 36us/sample - loss: 0.3110 - acc: 0.8729\n",
      "Epoch 55/100\n",
      "8000/8000 [==============================] - 0s 35us/sample - loss: 0.3064 - acc: 0.8766\n",
      "Epoch 56/100\n",
      "8000/8000 [==============================] - 0s 42us/sample - loss: 0.3082 - acc: 0.8761\n",
      "Epoch 57/100\n",
      "8000/8000 [==============================] - 0s 40us/sample - loss: 0.3051 - acc: 0.8765\n",
      "Epoch 58/100\n",
      "8000/8000 [==============================] - 0s 41us/sample - loss: 0.3096 - acc: 0.8714\n",
      "Epoch 59/100\n",
      "8000/8000 [==============================] - 0s 35us/sample - loss: 0.3041 - acc: 0.8752\n",
      "Epoch 60/100\n",
      "8000/8000 [==============================] - 0s 34us/sample - loss: 0.3015 - acc: 0.8766\n",
      "Epoch 61/100\n",
      "8000/8000 [==============================] - 0s 43us/sample - loss: 0.3025 - acc: 0.8773\n",
      "Epoch 62/100\n",
      "8000/8000 [==============================] - 0s 41us/sample - loss: 0.2984 - acc: 0.87840s - loss: 0.2961 - acc: 0.878\n",
      "Epoch 63/100\n",
      "8000/8000 [==============================] - 0s 43us/sample - loss: 0.2995 - acc: 0.8784\n",
      "Epoch 64/100\n",
      "8000/8000 [==============================] - 0s 38us/sample - loss: 0.2994 - acc: 0.8769\n",
      "Epoch 65/100\n",
      "8000/8000 [==============================] - 0s 37us/sample - loss: 0.2981 - acc: 0.8777\n",
      "Epoch 66/100\n",
      "8000/8000 [==============================] - 0s 38us/sample - loss: 0.2956 - acc: 0.8777\n",
      "Epoch 67/100\n",
      "8000/8000 [==============================] - 0s 36us/sample - loss: 0.2935 - acc: 0.8791\n",
      "Epoch 68/100\n",
      "8000/8000 [==============================] - 0s 37us/sample - loss: 0.2936 - acc: 0.8761\n",
      "Epoch 69/100\n",
      "8000/8000 [==============================] - 0s 37us/sample - loss: 0.2908 - acc: 0.8804\n",
      "Epoch 70/100\n",
      "8000/8000 [==============================] - 0s 37us/sample - loss: 0.2908 - acc: 0.8821\n",
      "Epoch 71/100\n",
      "8000/8000 [==============================] - 0s 38us/sample - loss: 0.2864 - acc: 0.8825\n",
      "Epoch 72/100\n",
      "8000/8000 [==============================] - 0s 36us/sample - loss: 0.2874 - acc: 0.8842\n",
      "Epoch 73/100\n",
      "8000/8000 [==============================] - 0s 37us/sample - loss: 0.2906 - acc: 0.8795\n",
      "Epoch 74/100\n",
      "8000/8000 [==============================] - 0s 37us/sample - loss: 0.2830 - acc: 0.8839\n",
      "Epoch 75/100\n",
      "8000/8000 [==============================] - 0s 37us/sample - loss: 0.2864 - acc: 0.8846\n",
      "Epoch 76/100\n",
      "8000/8000 [==============================] - 0s 38us/sample - loss: 0.2829 - acc: 0.8819\n",
      "Epoch 77/100\n",
      "8000/8000 [==============================] - 0s 38us/sample - loss: 0.2814 - acc: 0.8831\n",
      "Epoch 78/100\n",
      "8000/8000 [==============================] - 0s 38us/sample - loss: 0.2838 - acc: 0.8846\n",
      "Epoch 79/100\n",
      "8000/8000 [==============================] - 0s 37us/sample - loss: 0.2764 - acc: 0.8856\n",
      "Epoch 80/100\n",
      "8000/8000 [==============================] - 0s 37us/sample - loss: 0.2774 - acc: 0.8841\n",
      "Epoch 81/100\n"
     ]
    },
    {
     "name": "stdout",
     "output_type": "stream",
     "text": [
      "8000/8000 [==============================] - 0s 37us/sample - loss: 0.2806 - acc: 0.8844\n",
      "Epoch 82/100\n",
      "8000/8000 [==============================] - 0s 36us/sample - loss: 0.2745 - acc: 0.8880\n",
      "Epoch 83/100\n",
      "8000/8000 [==============================] - 0s 35us/sample - loss: 0.2715 - acc: 0.8869\n",
      "Epoch 84/100\n",
      "8000/8000 [==============================] - 0s 38us/sample - loss: 0.2708 - acc: 0.8857\n",
      "Epoch 85/100\n",
      "8000/8000 [==============================] - 0s 37us/sample - loss: 0.2722 - acc: 0.8842\n",
      "Epoch 86/100\n",
      "8000/8000 [==============================] - 0s 36us/sample - loss: 0.2735 - acc: 0.8867\n",
      "Epoch 87/100\n",
      "8000/8000 [==============================] - 0s 38us/sample - loss: 0.2708 - acc: 0.8892\n",
      "Epoch 88/100\n",
      "8000/8000 [==============================] - 0s 37us/sample - loss: 0.2667 - acc: 0.8884\n",
      "Epoch 89/100\n",
      "8000/8000 [==============================] - 0s 37us/sample - loss: 0.2660 - acc: 0.8895\n",
      "Epoch 90/100\n",
      "8000/8000 [==============================] - 0s 37us/sample - loss: 0.2639 - acc: 0.8907\n",
      "Epoch 91/100\n",
      "8000/8000 [==============================] - 0s 36us/sample - loss: 0.2611 - acc: 0.8932\n",
      "Epoch 92/100\n",
      "8000/8000 [==============================] - 0s 36us/sample - loss: 0.2626 - acc: 0.8915\n",
      "Epoch 93/100\n",
      "8000/8000 [==============================] - 0s 36us/sample - loss: 0.2593 - acc: 0.8911\n",
      "Epoch 94/100\n",
      "8000/8000 [==============================] - 0s 36us/sample - loss: 0.2674 - acc: 0.8884\n",
      "Epoch 95/100\n",
      "8000/8000 [==============================] - 0s 37us/sample - loss: 0.2600 - acc: 0.8929\n",
      "Epoch 96/100\n",
      "8000/8000 [==============================] - 0s 36us/sample - loss: 0.2606 - acc: 0.8924\n",
      "Epoch 97/100\n",
      "8000/8000 [==============================] - 0s 37us/sample - loss: 0.2596 - acc: 0.8920\n",
      "Epoch 98/100\n",
      "8000/8000 [==============================] - 0s 36us/sample - loss: 0.2534 - acc: 0.8956\n",
      "Epoch 99/100\n",
      "8000/8000 [==============================] - 0s 37us/sample - loss: 0.2545 - acc: 0.8938\n",
      "Epoch 100/100\n",
      "8000/8000 [==============================] - 0s 39us/sample - loss: 0.2559 - acc: 0.8942\n",
      "2000/2000 [==============================] - 0s 48us/sample - loss: 0.4439 - acc: 0.8300\n",
      "[0.4438620442152023, 0.83]\n",
      "Classification Report: \n",
      "               precision    recall  f1-score   support\n",
      "\n",
      "           0       0.89      0.89      0.89      1595\n",
      "           1       0.58      0.58      0.58       405\n",
      "\n",
      "    accuracy                           0.83      2000\n",
      "   macro avg       0.74      0.74      0.74      2000\n",
      "weighted avg       0.83      0.83      0.83      2000\n",
      "\n"
     ]
    }
   ],
   "source": [
    "y_pred=ANN(X_train,y_train,X_test,y_test,'binary_crossentropy',0)"
   ]
  },
  {
   "cell_type": "code",
   "execution_count": 80,
   "metadata": {},
   "outputs": [
    {
     "data": {
      "text/plain": [
       "array([[0.],\n",
       "       [1.],\n",
       "       [0.],\n",
       "       [0.],\n",
       "       [0.]], dtype=float32)"
      ]
     },
     "execution_count": 80,
     "metadata": {},
     "output_type": "execute_result"
    }
   ],
   "source": [
    "y_pred[:5]"
   ]
  },
  {
   "cell_type": "code",
   "execution_count": 70,
   "metadata": {},
   "outputs": [
    {
     "data": {
      "text/plain": [
       "9394    0\n",
       "898     1\n",
       "2398    0\n",
       "5906    0\n",
       "2343    0\n",
       "Name: Exited, dtype: int64"
      ]
     },
     "execution_count": 70,
     "metadata": {},
     "output_type": "execute_result"
    }
   ],
   "source": [
    "y_test[:5]"
   ]
  },
  {
   "cell_type": "code",
   "execution_count": 81,
   "metadata": {},
   "outputs": [
    {
     "name": "stdout",
     "output_type": "stream",
     "text": [
      "              precision    recall  f1-score   support\n",
      "\n",
      "           0       0.89      0.89      0.89      1595\n",
      "           1       0.58      0.58      0.58       405\n",
      "\n",
      "    accuracy                           0.83      2000\n",
      "   macro avg       0.74      0.74      0.74      2000\n",
      "weighted avg       0.83      0.83      0.83      2000\n",
      "\n"
     ]
    }
   ],
   "source": [
    "from sklearn.metrics import confusion_matrix,classification_report\n",
    "print (classification_report(y_test,y_pred))"
   ]
  },
  {
   "cell_type": "markdown",
   "metadata": {},
   "source": [
    "### Method 1 : Under Sampling"
   ]
  },
  {
   "cell_type": "code",
   "execution_count": 82,
   "metadata": {},
   "outputs": [],
   "source": [
    "count_class_0,count_class_1=df.Exited.value_counts()\n"
   ]
  },
  {
   "cell_type": "code",
   "execution_count": 83,
   "metadata": {},
   "outputs": [
    {
     "data": {
      "text/plain": [
       "7963"
      ]
     },
     "execution_count": 83,
     "metadata": {},
     "output_type": "execute_result"
    }
   ],
   "source": [
    "count_class_0"
   ]
  },
  {
   "cell_type": "code",
   "execution_count": 84,
   "metadata": {},
   "outputs": [
    {
     "data": {
      "text/plain": [
       "2037"
      ]
     },
     "execution_count": 84,
     "metadata": {},
     "output_type": "execute_result"
    }
   ],
   "source": [
    "count_class_1"
   ]
  },
  {
   "cell_type": "code",
   "execution_count": 85,
   "metadata": {},
   "outputs": [],
   "source": [
    "df_class_0=df[df['Exited']==0]\n",
    "df_class_1=df[df['Exited']==1]"
   ]
  },
  {
   "cell_type": "code",
   "execution_count": 97,
   "metadata": {},
   "outputs": [
    {
     "data": {
      "text/plain": [
       "(7963, 12)"
      ]
     },
     "execution_count": 97,
     "metadata": {},
     "output_type": "execute_result"
    }
   ],
   "source": [
    "df_class_0.shape"
   ]
  },
  {
   "cell_type": "code",
   "execution_count": 86,
   "metadata": {},
   "outputs": [
    {
     "name": "stdout",
     "output_type": "stream",
     "text": [
      "1    2037\n",
      "0    2037\n",
      "Name: Exited, dtype: int64\n"
     ]
    }
   ],
   "source": [
    "df_class_0_under=df_class_0.sample(count_class_1)\n",
    "\n",
    "df_test_under=pd.concat([df_class_0_under,df_class_1],axis=0)\n",
    "df_test_under.shape\n",
    "print(df_test_under.Exited.value_counts())"
   ]
  },
  {
   "cell_type": "code",
   "execution_count": 98,
   "metadata": {},
   "outputs": [],
   "source": [
    "X=df_test_under.drop('Exited',axis=1)\n",
    "y=df_test_under['Exited']\n",
    "\n",
    "from sklearn.model_selection import train_test_split\n",
    "X_train,X_test,y_train,y_test=train_test_split(X,y,random_state=15,stratify=y,test_size=0.2)"
   ]
  },
  {
   "cell_type": "code",
   "execution_count": 99,
   "metadata": {},
   "outputs": [
    {
     "data": {
      "text/plain": [
       "(3259, 11)"
      ]
     },
     "execution_count": 99,
     "metadata": {},
     "output_type": "execute_result"
    }
   ],
   "source": [
    "X_train.shape"
   ]
  },
  {
   "cell_type": "code",
   "execution_count": 100,
   "metadata": {},
   "outputs": [
    {
     "data": {
      "text/plain": [
       "(815, 11)"
      ]
     },
     "execution_count": 100,
     "metadata": {},
     "output_type": "execute_result"
    }
   ],
   "source": [
    "X_test.shape"
   ]
  },
  {
   "cell_type": "code",
   "execution_count": 101,
   "metadata": {},
   "outputs": [
    {
     "data": {
      "text/plain": [
       "1    1630\n",
       "0    1629\n",
       "Name: Exited, dtype: int64"
      ]
     },
     "execution_count": 101,
     "metadata": {},
     "output_type": "execute_result"
    }
   ],
   "source": [
    "y_train.value_counts()"
   ]
  },
  {
   "cell_type": "code",
   "execution_count": 102,
   "metadata": {},
   "outputs": [
    {
     "name": "stdout",
     "output_type": "stream",
     "text": [
      "Epoch 1/100\n",
      "3259/3259 [==============================] - 0s 82us/sample - loss: 0.6655 - acc: 0.6122\n",
      "Epoch 2/100\n",
      "3259/3259 [==============================] - 0s 36us/sample - loss: 0.6282 - acc: 0.6600\n",
      "Epoch 3/100\n",
      "3259/3259 [==============================] - 0s 37us/sample - loss: 0.6108 - acc: 0.6757\n",
      "Epoch 4/100\n",
      "3259/3259 [==============================] - 0s 36us/sample - loss: 0.5770 - acc: 0.7024\n",
      "Epoch 5/100\n",
      "3259/3259 [==============================] - 0s 36us/sample - loss: 0.5540 - acc: 0.7165\n",
      "Epoch 6/100\n",
      "3259/3259 [==============================] - 0s 37us/sample - loss: 0.5311 - acc: 0.7352\n",
      "Epoch 7/100\n",
      "3259/3259 [==============================] - 0s 37us/sample - loss: 0.5165 - acc: 0.7438\n",
      "Epoch 8/100\n",
      "3259/3259 [==============================] - 0s 37us/sample - loss: 0.5201 - acc: 0.7373\n",
      "Epoch 9/100\n",
      "3259/3259 [==============================] - 0s 37us/sample - loss: 0.4997 - acc: 0.7564\n",
      "Epoch 10/100\n",
      "3259/3259 [==============================] - 0s 37us/sample - loss: 0.4970 - acc: 0.7585\n",
      "Epoch 11/100\n",
      "3259/3259 [==============================] - 0s 37us/sample - loss: 0.4976 - acc: 0.7579\n",
      "Epoch 12/100\n",
      "3259/3259 [==============================] - 0s 38us/sample - loss: 0.4898 - acc: 0.7597\n",
      "Epoch 13/100\n",
      "3259/3259 [==============================] - 0s 36us/sample - loss: 0.4845 - acc: 0.7647\n",
      "Epoch 14/100\n",
      "3259/3259 [==============================] - 0s 37us/sample - loss: 0.4792 - acc: 0.7708\n",
      "Epoch 15/100\n",
      "3259/3259 [==============================] - 0s 37us/sample - loss: 0.4824 - acc: 0.7643\n",
      "Epoch 16/100\n",
      "3259/3259 [==============================] - 0s 38us/sample - loss: 0.4781 - acc: 0.7622\n",
      "Epoch 17/100\n",
      "3259/3259 [==============================] - 0s 36us/sample - loss: 0.4808 - acc: 0.7656\n",
      "Epoch 18/100\n",
      "3259/3259 [==============================] - 0s 38us/sample - loss: 0.4738 - acc: 0.7702\n",
      "Epoch 19/100\n",
      "3259/3259 [==============================] - 0s 40us/sample - loss: 0.4722 - acc: 0.7693\n",
      "Epoch 20/100\n",
      "3259/3259 [==============================] - 0s 40us/sample - loss: 0.4621 - acc: 0.7708\n",
      "Epoch 21/100\n",
      "3259/3259 [==============================] - 0s 52us/sample - loss: 0.4575 - acc: 0.7831\n",
      "Epoch 22/100\n",
      "3259/3259 [==============================] - 0s 39us/sample - loss: 0.4564 - acc: 0.7803\n",
      "Epoch 23/100\n",
      "3259/3259 [==============================] - 0s 39us/sample - loss: 0.4519 - acc: 0.7782\n",
      "Epoch 24/100\n",
      "3259/3259 [==============================] - 0s 38us/sample - loss: 0.4508 - acc: 0.7794\n",
      "Epoch 25/100\n",
      "3259/3259 [==============================] - 0s 37us/sample - loss: 0.4480 - acc: 0.7849\n",
      "Epoch 26/100\n",
      "3259/3259 [==============================] - 0s 37us/sample - loss: 0.4502 - acc: 0.7852\n",
      "Epoch 27/100\n",
      "3259/3259 [==============================] - 0s 39us/sample - loss: 0.4363 - acc: 0.7861\n",
      "Epoch 28/100\n",
      "3259/3259 [==============================] - 0s 39us/sample - loss: 0.4449 - acc: 0.7858\n",
      "Epoch 29/100\n",
      "3259/3259 [==============================] - 0s 40us/sample - loss: 0.4469 - acc: 0.7895\n",
      "Epoch 30/100\n",
      "3259/3259 [==============================] - 0s 40us/sample - loss: 0.4357 - acc: 0.7877\n",
      "Epoch 31/100\n",
      "3259/3259 [==============================] - 0s 40us/sample - loss: 0.4289 - acc: 0.7923\n",
      "Epoch 32/100\n",
      "3259/3259 [==============================] - 0s 40us/sample - loss: 0.4233 - acc: 0.7947\n",
      "Epoch 33/100\n",
      "3259/3259 [==============================] - 0s 38us/sample - loss: 0.4211 - acc: 0.7984\n",
      "Epoch 34/100\n",
      "3259/3259 [==============================] - 0s 42us/sample - loss: 0.4183 - acc: 0.8009\n",
      "Epoch 35/100\n",
      "3259/3259 [==============================] - 0s 47us/sample - loss: 0.4231 - acc: 0.7984\n",
      "Epoch 36/100\n",
      "3259/3259 [==============================] - 0s 45us/sample - loss: 0.4163 - acc: 0.8036\n",
      "Epoch 37/100\n",
      "3259/3259 [==============================] - 0s 44us/sample - loss: 0.4121 - acc: 0.7981\n",
      "Epoch 38/100\n",
      "3259/3259 [==============================] - 0s 46us/sample - loss: 0.4028 - acc: 0.8067\n",
      "Epoch 39/100\n",
      "3259/3259 [==============================] - 0s 47us/sample - loss: 0.4085 - acc: 0.8045\n",
      "Epoch 40/100\n",
      "3259/3259 [==============================] - 0s 44us/sample - loss: 0.4120 - acc: 0.8048\n",
      "Epoch 41/100\n",
      "3259/3259 [==============================] - 0s 43us/sample - loss: 0.4074 - acc: 0.8033\n",
      "Epoch 42/100\n",
      "3259/3259 [==============================] - 0s 37us/sample - loss: 0.3996 - acc: 0.8042\n",
      "Epoch 43/100\n",
      "3259/3259 [==============================] - 0s 38us/sample - loss: 0.3967 - acc: 0.8137\n",
      "Epoch 44/100\n",
      "3259/3259 [==============================] - 0s 38us/sample - loss: 0.3906 - acc: 0.8147\n",
      "Epoch 45/100\n",
      "3259/3259 [==============================] - 0s 44us/sample - loss: 0.3869 - acc: 0.8131\n",
      "Epoch 46/100\n",
      "3259/3259 [==============================] - 0s 44us/sample - loss: 0.3923 - acc: 0.81680s - loss: 0.3432 - acc: 0.84\n",
      "Epoch 47/100\n",
      "3259/3259 [==============================] - 0s 44us/sample - loss: 0.3842 - acc: 0.8156\n",
      "Epoch 48/100\n",
      "3259/3259 [==============================] - 0s 45us/sample - loss: 0.3814 - acc: 0.8171\n",
      "Epoch 49/100\n",
      "3259/3259 [==============================] - 0s 44us/sample - loss: 0.3887 - acc: 0.8180\n",
      "Epoch 50/100\n",
      "3259/3259 [==============================] - 0s 43us/sample - loss: 0.3849 - acc: 0.8153\n",
      "Epoch 51/100\n",
      "3259/3259 [==============================] - 0s 44us/sample - loss: 0.3854 - acc: 0.8208\n",
      "Epoch 52/100\n",
      "3259/3259 [==============================] - 0s 45us/sample - loss: 0.3692 - acc: 0.82140s - loss: 0.3772 - acc: 0.819\n",
      "Epoch 53/100\n",
      "3259/3259 [==============================] - 0s 44us/sample - loss: 0.3713 - acc: 0.8266\n",
      "Epoch 54/100\n",
      "3259/3259 [==============================] - 0s 44us/sample - loss: 0.3675 - acc: 0.8263\n",
      "Epoch 55/100\n",
      "3259/3259 [==============================] - 0s 44us/sample - loss: 0.3689 - acc: 0.8254\n",
      "Epoch 56/100\n",
      "3259/3259 [==============================] - 0s 44us/sample - loss: 0.3695 - acc: 0.8233\n",
      "Epoch 57/100\n",
      "3259/3259 [==============================] - 0s 45us/sample - loss: 0.3667 - acc: 0.8257\n",
      "Epoch 58/100\n",
      "3259/3259 [==============================] - 0s 43us/sample - loss: 0.3604 - acc: 0.8306\n",
      "Epoch 59/100\n",
      "3259/3259 [==============================] - 0s 43us/sample - loss: 0.3668 - acc: 0.8279\n",
      "Epoch 60/100\n",
      "3259/3259 [==============================] - 0s 37us/sample - loss: 0.3495 - acc: 0.8380\n",
      "Epoch 61/100\n",
      "3259/3259 [==============================] - 0s 38us/sample - loss: 0.3552 - acc: 0.8355\n",
      "Epoch 62/100\n",
      "3259/3259 [==============================] - 0s 38us/sample - loss: 0.3517 - acc: 0.8361\n",
      "Epoch 63/100\n",
      "3259/3259 [==============================] - 0s 38us/sample - loss: 0.3522 - acc: 0.8254\n",
      "Epoch 64/100\n",
      "3259/3259 [==============================] - 0s 38us/sample - loss: 0.3472 - acc: 0.8368\n",
      "Epoch 65/100\n",
      "3259/3259 [==============================] - 0s 38us/sample - loss: 0.3403 - acc: 0.8441\n",
      "Epoch 66/100\n",
      "3259/3259 [==============================] - 0s 37us/sample - loss: 0.3373 - acc: 0.8469\n",
      "Epoch 67/100\n",
      "3259/3259 [==============================] - 0s 37us/sample - loss: 0.3346 - acc: 0.8404\n",
      "Epoch 68/100\n",
      "3259/3259 [==============================] - 0s 38us/sample - loss: 0.3397 - acc: 0.8392\n",
      "Epoch 69/100\n",
      "3259/3259 [==============================] - 0s 38us/sample - loss: 0.3283 - acc: 0.8454\n",
      "Epoch 70/100\n",
      "3259/3259 [==============================] - 0s 46us/sample - loss: 0.3291 - acc: 0.8466\n",
      "Epoch 71/100\n",
      "3259/3259 [==============================] - 0s 46us/sample - loss: 0.3321 - acc: 0.8472\n",
      "Epoch 72/100\n",
      "3259/3259 [==============================] - 0s 45us/sample - loss: 0.3326 - acc: 0.84720s - loss: 0.3117 - acc: 0.85\n",
      "Epoch 73/100\n",
      "3259/3259 [==============================] - 0s 46us/sample - loss: 0.3291 - acc: 0.8454\n",
      "Epoch 74/100\n",
      "3259/3259 [==============================] - 0s 45us/sample - loss: 0.3242 - acc: 0.8506\n",
      "Epoch 75/100\n",
      "3259/3259 [==============================] - 0s 45us/sample - loss: 0.3196 - acc: 0.8515\n",
      "Epoch 76/100\n",
      "3259/3259 [==============================] - 0s 45us/sample - loss: 0.3148 - acc: 0.8567\n",
      "Epoch 77/100\n",
      "3259/3259 [==============================] - 0s 45us/sample - loss: 0.3257 - acc: 0.8475\n",
      "Epoch 78/100\n",
      "3259/3259 [==============================] - 0s 44us/sample - loss: 0.3134 - acc: 0.8567\n",
      "Epoch 79/100\n",
      "3259/3259 [==============================] - 0s 39us/sample - loss: 0.3069 - acc: 0.8616\n",
      "Epoch 80/100\n"
     ]
    },
    {
     "name": "stdout",
     "output_type": "stream",
     "text": [
      "3259/3259 [==============================] - 0s 37us/sample - loss: 0.3048 - acc: 0.8631\n",
      "Epoch 81/100\n",
      "3259/3259 [==============================] - 0s 36us/sample - loss: 0.3130 - acc: 0.8524\n",
      "Epoch 82/100\n",
      "3259/3259 [==============================] - 0s 38us/sample - loss: 0.2962 - acc: 0.8647\n",
      "Epoch 83/100\n",
      "3259/3259 [==============================] - 0s 44us/sample - loss: 0.3192 - acc: 0.8460\n",
      "Epoch 84/100\n",
      "3259/3259 [==============================] - 0s 44us/sample - loss: 0.3071 - acc: 0.8662\n",
      "Epoch 85/100\n",
      "3259/3259 [==============================] - 0s 40us/sample - loss: 0.3033 - acc: 0.8610\n",
      "Epoch 86/100\n",
      "3259/3259 [==============================] - 0s 37us/sample - loss: 0.2912 - acc: 0.8699\n",
      "Epoch 87/100\n",
      "3259/3259 [==============================] - 0s 40us/sample - loss: 0.2913 - acc: 0.8631\n",
      "Epoch 88/100\n",
      "3259/3259 [==============================] - 0s 44us/sample - loss: 0.2816 - acc: 0.8711\n",
      "Epoch 89/100\n",
      "3259/3259 [==============================] - ETA: 0s - loss: 0.2749 - acc: 0.871 - 0s 45us/sample - loss: 0.2859 - acc: 0.8696\n",
      "Epoch 90/100\n",
      "3259/3259 [==============================] - 0s 37us/sample - loss: 0.2847 - acc: 0.8687\n",
      "Epoch 91/100\n",
      "3259/3259 [==============================] - 0s 36us/sample - loss: 0.2772 - acc: 0.8773\n",
      "Epoch 92/100\n",
      "3259/3259 [==============================] - 0s 36us/sample - loss: 0.2885 - acc: 0.8684\n",
      "Epoch 93/100\n",
      "3259/3259 [==============================] - 0s 40us/sample - loss: 0.2722 - acc: 0.8803\n",
      "Epoch 94/100\n",
      "3259/3259 [==============================] - 0s 46us/sample - loss: 0.2836 - acc: 0.8711\n",
      "Epoch 95/100\n",
      "3259/3259 [==============================] - 0s 46us/sample - loss: 0.2717 - acc: 0.8785\n",
      "Epoch 96/100\n",
      "3259/3259 [==============================] - 0s 39us/sample - loss: 0.2653 - acc: 0.8852\n",
      "Epoch 97/100\n",
      "3259/3259 [==============================] - 0s 37us/sample - loss: 0.2616 - acc: 0.8794\n",
      "Epoch 98/100\n",
      "3259/3259 [==============================] - 0s 37us/sample - loss: 0.2705 - acc: 0.8733\n",
      "Epoch 99/100\n",
      "3259/3259 [==============================] - 0s 36us/sample - loss: 0.2665 - acc: 0.8773\n",
      "Epoch 100/100\n",
      "3259/3259 [==============================] - 0s 37us/sample - loss: 0.2537 - acc: 0.8880\n",
      "815/815 [==============================] - 0s 92us/sample - loss: 1.0314 - acc: 0.7239\n",
      "[1.0313837749095052, 0.72392637]\n",
      "Classification Report: \n",
      "               precision    recall  f1-score   support\n",
      "\n",
      "           0       0.74      0.69      0.71       408\n",
      "           1       0.71      0.76      0.73       407\n",
      "\n",
      "    accuracy                           0.72       815\n",
      "   macro avg       0.73      0.72      0.72       815\n",
      "weighted avg       0.73      0.72      0.72       815\n",
      "\n"
     ]
    }
   ],
   "source": [
    "y_preds=ANN(X_train,y_train,X_test,y_test,'binary_crossentropy',0)"
   ]
  },
  {
   "cell_type": "markdown",
   "metadata": {},
   "source": [
    "## Method 2 : Over Sampling"
   ]
  },
  {
   "cell_type": "code",
   "execution_count": 103,
   "metadata": {},
   "outputs": [
    {
     "data": {
      "text/plain": [
       "(7963, 2037)"
      ]
     },
     "execution_count": 103,
     "metadata": {},
     "output_type": "execute_result"
    }
   ],
   "source": [
    "count_class_0,count_class_1"
   ]
  },
  {
   "cell_type": "code",
   "execution_count": 104,
   "metadata": {},
   "outputs": [],
   "source": [
    "df_class_1_over=df_class_1.sample(count_class_0,replace=True)"
   ]
  },
  {
   "cell_type": "code",
   "execution_count": 105,
   "metadata": {},
   "outputs": [
    {
     "data": {
      "text/plain": [
       "1    7963\n",
       "Name: Exited, dtype: int64"
      ]
     },
     "execution_count": 105,
     "metadata": {},
     "output_type": "execute_result"
    }
   ],
   "source": [
    "df_class_1_over.Exited.value_counts()"
   ]
  },
  {
   "cell_type": "code",
   "execution_count": 106,
   "metadata": {},
   "outputs": [
    {
     "data": {
      "text/plain": [
       "0    7963\n",
       "Name: Exited, dtype: int64"
      ]
     },
     "execution_count": 106,
     "metadata": {},
     "output_type": "execute_result"
    }
   ],
   "source": [
    "df_class_0.Exited.value_counts()"
   ]
  },
  {
   "cell_type": "code",
   "execution_count": 107,
   "metadata": {},
   "outputs": [
    {
     "data": {
      "text/plain": [
       "1    7963\n",
       "0    7963\n",
       "Name: Exited, dtype: int64"
      ]
     },
     "execution_count": 107,
     "metadata": {},
     "output_type": "execute_result"
    }
   ],
   "source": [
    "df_test_over=pd.concat([df_class_0,df_class_1_over],axis=0)\n",
    "df_test_over.Exited.value_counts()"
   ]
  },
  {
   "cell_type": "code",
   "execution_count": 108,
   "metadata": {},
   "outputs": [],
   "source": [
    "X=df_test_over.drop('Exited',axis=1)\n",
    "y=df_test_over['Exited']"
   ]
  },
  {
   "cell_type": "code",
   "execution_count": 109,
   "metadata": {},
   "outputs": [],
   "source": [
    "X_train,X_test,y_train,y_test=train_test_split(X,y,test_size=0.2,random_state=15,stratify=y)"
   ]
  },
  {
   "cell_type": "code",
   "execution_count": 110,
   "metadata": {},
   "outputs": [
    {
     "data": {
      "text/plain": [
       "(12740, 11)"
      ]
     },
     "execution_count": 110,
     "metadata": {},
     "output_type": "execute_result"
    }
   ],
   "source": [
    "X_train.shape"
   ]
  },
  {
   "cell_type": "code",
   "execution_count": 111,
   "metadata": {},
   "outputs": [
    {
     "data": {
      "text/plain": [
       "(3186,)"
      ]
     },
     "execution_count": 111,
     "metadata": {},
     "output_type": "execute_result"
    }
   ],
   "source": [
    "y_test.shape"
   ]
  },
  {
   "cell_type": "code",
   "execution_count": 112,
   "metadata": {},
   "outputs": [
    {
     "data": {
      "text/plain": [
       "1    6370\n",
       "0    6370\n",
       "Name: Exited, dtype: int64"
      ]
     },
     "execution_count": 112,
     "metadata": {},
     "output_type": "execute_result"
    }
   ],
   "source": [
    "y_train.value_counts()"
   ]
  },
  {
   "cell_type": "code",
   "execution_count": 113,
   "metadata": {
    "scrolled": false
   },
   "outputs": [
    {
     "name": "stdout",
     "output_type": "stream",
     "text": [
      "Epoch 1/100\n",
      "12740/12740 [==============================] - 1s 48us/sample - loss: 0.6101 - acc: 0.6668\n",
      "Epoch 2/100\n",
      "12740/12740 [==============================] - 0s 35us/sample - loss: 0.5343 - acc: 0.7337\n",
      "Epoch 3/100\n",
      "12740/12740 [==============================] - 0s 35us/sample - loss: 0.5054 - acc: 0.7505\n",
      "Epoch 4/100\n",
      "12740/12740 [==============================] - 0s 35us/sample - loss: 0.4904 - acc: 0.7606\n",
      "Epoch 5/100\n",
      "12740/12740 [==============================] - 0s 35us/sample - loss: 0.4820 - acc: 0.7653\n",
      "Epoch 6/100\n",
      "12740/12740 [==============================] - 0s 35us/sample - loss: 0.4731 - acc: 0.7712\n",
      "Epoch 7/100\n",
      "12740/12740 [==============================] - 0s 35us/sample - loss: 0.4675 - acc: 0.7746\n",
      "Epoch 8/100\n",
      "12740/12740 [==============================] - 0s 36us/sample - loss: 0.4599 - acc: 0.7786\n",
      "Epoch 9/100\n",
      "12740/12740 [==============================] - 0s 35us/sample - loss: 0.4564 - acc: 0.7797\n",
      "Epoch 10/100\n",
      "12740/12740 [==============================] - 0s 35us/sample - loss: 0.4487 - acc: 0.7882\n",
      "Epoch 11/100\n",
      "12740/12740 [==============================] - 0s 35us/sample - loss: 0.4459 - acc: 0.7857\n",
      "Epoch 12/100\n",
      "12740/12740 [==============================] - 0s 35us/sample - loss: 0.4398 - acc: 0.7916\n",
      "Epoch 13/100\n",
      "12740/12740 [==============================] - 0s 35us/sample - loss: 0.4344 - acc: 0.7981\n",
      "Epoch 14/100\n",
      "12740/12740 [==============================] - 0s 35us/sample - loss: 0.4314 - acc: 0.7981\n",
      "Epoch 15/100\n",
      "12740/12740 [==============================] - 0s 35us/sample - loss: 0.4299 - acc: 0.8002\n",
      "Epoch 16/100\n",
      "12740/12740 [==============================] - 0s 35us/sample - loss: 0.4246 - acc: 0.8021\n",
      "Epoch 17/100\n",
      "12740/12740 [==============================] - 0s 35us/sample - loss: 0.4233 - acc: 0.8029\n",
      "Epoch 18/100\n",
      "12740/12740 [==============================] - 0s 35us/sample - loss: 0.4215 - acc: 0.8022\n",
      "Epoch 19/100\n",
      "12740/12740 [==============================] - 0s 35us/sample - loss: 0.4142 - acc: 0.8093\n",
      "Epoch 20/100\n",
      "12740/12740 [==============================] - 0s 35us/sample - loss: 0.4127 - acc: 0.8081\n",
      "Epoch 21/100\n",
      "12740/12740 [==============================] - 0s 35us/sample - loss: 0.4048 - acc: 0.8107\n",
      "Epoch 22/100\n",
      "12740/12740 [==============================] - 0s 35us/sample - loss: 0.4049 - acc: 0.8117\n",
      "Epoch 23/100\n",
      "12740/12740 [==============================] - 0s 35us/sample - loss: 0.3995 - acc: 0.8170\n",
      "Epoch 24/100\n",
      "12740/12740 [==============================] - 0s 35us/sample - loss: 0.3963 - acc: 0.8191\n",
      "Epoch 25/100\n",
      "12740/12740 [==============================] - 0s 35us/sample - loss: 0.3914 - acc: 0.8192\n",
      "Epoch 26/100\n",
      "12740/12740 [==============================] - 0s 35us/sample - loss: 0.3875 - acc: 0.8211\n",
      "Epoch 27/100\n",
      "12740/12740 [==============================] - 0s 35us/sample - loss: 0.3832 - acc: 0.8242\n",
      "Epoch 28/100\n",
      "12740/12740 [==============================] - 0s 35us/sample - loss: 0.3834 - acc: 0.8209\n",
      "Epoch 29/100\n",
      "12740/12740 [==============================] - 0s 36us/sample - loss: 0.3791 - acc: 0.8268\n",
      "Epoch 30/100\n",
      "12740/12740 [==============================] - 0s 35us/sample - loss: 0.3737 - acc: 0.8292\n",
      "Epoch 31/100\n",
      "12740/12740 [==============================] - 0s 35us/sample - loss: 0.3685 - acc: 0.8314\n",
      "Epoch 32/100\n",
      "12740/12740 [==============================] - 0s 35us/sample - loss: 0.3645 - acc: 0.8340\n",
      "Epoch 33/100\n",
      "12740/12740 [==============================] - 0s 36us/sample - loss: 0.3610 - acc: 0.8350\n",
      "Epoch 34/100\n",
      "12740/12740 [==============================] - 0s 39us/sample - loss: 0.3570 - acc: 0.8381\n",
      "Epoch 35/100\n",
      "12740/12740 [==============================] - 1s 41us/sample - loss: 0.3506 - acc: 0.8389\n",
      "Epoch 36/100\n",
      "12740/12740 [==============================] - 0s 38us/sample - loss: 0.3511 - acc: 0.8416\n",
      "Epoch 37/100\n",
      "12740/12740 [==============================] - 0s 36us/sample - loss: 0.3492 - acc: 0.8414\n",
      "Epoch 38/100\n",
      "12740/12740 [==============================] - 0s 35us/sample - loss: 0.3443 - acc: 0.8445\n",
      "Epoch 39/100\n",
      "12740/12740 [==============================] - 0s 36us/sample - loss: 0.3404 - acc: 0.8470\n",
      "Epoch 40/100\n",
      "12740/12740 [==============================] - 0s 35us/sample - loss: 0.3403 - acc: 0.8443\n",
      "Epoch 41/100\n",
      "12740/12740 [==============================] - 0s 36us/sample - loss: 0.3315 - acc: 0.8518\n",
      "Epoch 42/100\n",
      "12740/12740 [==============================] - 0s 36us/sample - loss: 0.3312 - acc: 0.8515\n",
      "Epoch 43/100\n",
      "12740/12740 [==============================] - 0s 36us/sample - loss: 0.3240 - acc: 0.8561\n",
      "Epoch 44/100\n",
      "12740/12740 [==============================] - 0s 35us/sample - loss: 0.3245 - acc: 0.8549\n",
      "Epoch 45/100\n",
      "12740/12740 [==============================] - 0s 35us/sample - loss: 0.3138 - acc: 0.8592\n",
      "Epoch 46/100\n",
      "12740/12740 [==============================] - 0s 36us/sample - loss: 0.3177 - acc: 0.8589\n",
      "Epoch 47/100\n",
      "12740/12740 [==============================] - 0s 36us/sample - loss: 0.3147 - acc: 0.8567\n",
      "Epoch 48/100\n",
      "12740/12740 [==============================] - 0s 35us/sample - loss: 0.3130 - acc: 0.8608\n",
      "Epoch 49/100\n",
      "12740/12740 [==============================] - 0s 35us/sample - loss: 0.3085 - acc: 0.8608\n",
      "Epoch 50/100\n",
      "12740/12740 [==============================] - 0s 36us/sample - loss: 0.3055 - acc: 0.8654\n",
      "Epoch 51/100\n",
      "12740/12740 [==============================] - 0s 36us/sample - loss: 0.2985 - acc: 0.8662\n",
      "Epoch 52/100\n",
      "12740/12740 [==============================] - 0s 36us/sample - loss: 0.2973 - acc: 0.8657\n",
      "Epoch 53/100\n",
      "12740/12740 [==============================] - 0s 36us/sample - loss: 0.2949 - acc: 0.8700\n",
      "Epoch 54/100\n",
      "12740/12740 [==============================] - 0s 35us/sample - loss: 0.2941 - acc: 0.8680\n",
      "Epoch 55/100\n",
      "12740/12740 [==============================] - 0s 36us/sample - loss: 0.2921 - acc: 0.8726\n",
      "Epoch 56/100\n",
      "12740/12740 [==============================] - 0s 36us/sample - loss: 0.2836 - acc: 0.8726\n",
      "Epoch 57/100\n",
      "12740/12740 [==============================] - 0s 35us/sample - loss: 0.2806 - acc: 0.8798\n",
      "Epoch 58/100\n",
      "12740/12740 [==============================] - 0s 36us/sample - loss: 0.2824 - acc: 0.8736\n",
      "Epoch 59/100\n",
      "12740/12740 [==============================] - 0s 36us/sample - loss: 0.2783 - acc: 0.8779\n",
      "Epoch 60/100\n",
      "12740/12740 [==============================] - 0s 36us/sample - loss: 0.2705 - acc: 0.8810\n",
      "Epoch 61/100\n",
      "12740/12740 [==============================] - 0s 36us/sample - loss: 0.2690 - acc: 0.8814\n",
      "Epoch 62/100\n",
      "12740/12740 [==============================] - 0s 36us/sample - loss: 0.2672 - acc: 0.8820\n",
      "Epoch 63/100\n",
      "12740/12740 [==============================] - 0s 38us/sample - loss: 0.2665 - acc: 0.8842\n",
      "Epoch 64/100\n",
      "12740/12740 [==============================] - 1s 42us/sample - loss: 0.2665 - acc: 0.8827\n",
      "Epoch 65/100\n",
      "12740/12740 [==============================] - 1s 41us/sample - loss: 0.2656 - acc: 0.8830\n",
      "Epoch 66/100\n",
      "12740/12740 [==============================] - 1s 42us/sample - loss: 0.2623 - acc: 0.8856\n",
      "Epoch 67/100\n",
      "12740/12740 [==============================] - 1s 41us/sample - loss: 0.2571 - acc: 0.8878\n",
      "Epoch 68/100\n",
      "12740/12740 [==============================] - 1s 42us/sample - loss: 0.2564 - acc: 0.8892\n",
      "Epoch 69/100\n",
      "12740/12740 [==============================] - 1s 42us/sample - loss: 0.2524 - acc: 0.8913\n",
      "Epoch 70/100\n",
      "12740/12740 [==============================] - 1s 42us/sample - loss: 0.2538 - acc: 0.8900\n",
      "Epoch 71/100\n",
      "12740/12740 [==============================] - 1s 42us/sample - loss: 0.2511 - acc: 0.8934\n",
      "Epoch 72/100\n",
      "12740/12740 [==============================] - 1s 42us/sample - loss: 0.2508 - acc: 0.8916\n",
      "Epoch 73/100\n",
      "12740/12740 [==============================] - 1s 42us/sample - loss: 0.2450 - acc: 0.8937\n",
      "Epoch 74/100\n",
      "12740/12740 [==============================] - 1s 42us/sample - loss: 0.2405 - acc: 0.8955\n",
      "Epoch 75/100\n",
      "12740/12740 [==============================] - 1s 41us/sample - loss: 0.2392 - acc: 0.8954\n",
      "Epoch 76/100\n",
      "12740/12740 [==============================] - 1s 41us/sample - loss: 0.2404 - acc: 0.8968\n",
      "Epoch 77/100\n",
      "12740/12740 [==============================] - 1s 42us/sample - loss: 0.2371 - acc: 0.8980\n",
      "Epoch 78/100\n",
      "12740/12740 [==============================] - 1s 42us/sample - loss: 0.2333 - acc: 0.89990s - loss: 0.2297 - acc: 0.90\n",
      "Epoch 79/100\n"
     ]
    },
    {
     "name": "stdout",
     "output_type": "stream",
     "text": [
      "12740/12740 [==============================] - 1s 41us/sample - loss: 0.2363 - acc: 0.8978\n",
      "Epoch 80/100\n",
      "12740/12740 [==============================] - 1s 41us/sample - loss: 0.2347 - acc: 0.8981\n",
      "Epoch 81/100\n",
      "12740/12740 [==============================] - 1s 41us/sample - loss: 0.2259 - acc: 0.9030\n",
      "Epoch 82/100\n",
      "12740/12740 [==============================] - 1s 41us/sample - loss: 0.2275 - acc: 0.9020\n",
      "Epoch 83/100\n",
      "12740/12740 [==============================] - 1s 40us/sample - loss: 0.2240 - acc: 0.9021\n",
      "Epoch 84/100\n",
      "12740/12740 [==============================] - 1s 40us/sample - loss: 0.2283 - acc: 0.9041\n",
      "Epoch 85/100\n",
      "12740/12740 [==============================] - 1s 40us/sample - loss: 0.2198 - acc: 0.9092\n",
      "Epoch 86/100\n",
      "12740/12740 [==============================] - 1s 40us/sample - loss: 0.2223 - acc: 0.9075\n",
      "Epoch 87/100\n",
      "12740/12740 [==============================] - 1s 40us/sample - loss: 0.2160 - acc: 0.9092\n",
      "Epoch 88/100\n",
      "12740/12740 [==============================] - 1s 40us/sample - loss: 0.2138 - acc: 0.9084\n",
      "Epoch 89/100\n",
      "12740/12740 [==============================] - 1s 40us/sample - loss: 0.2145 - acc: 0.9100\n",
      "Epoch 90/100\n",
      "12740/12740 [==============================] - 1s 40us/sample - loss: 0.2125 - acc: 0.9078\n",
      "Epoch 91/100\n",
      "12740/12740 [==============================] - 1s 41us/sample - loss: 0.2094 - acc: 0.9142\n",
      "Epoch 92/100\n",
      "12740/12740 [==============================] - 1s 41us/sample - loss: 0.2047 - acc: 0.9125\n",
      "Epoch 93/100\n",
      "12740/12740 [==============================] - 1s 40us/sample - loss: 0.2087 - acc: 0.9111\n",
      "Epoch 94/100\n",
      "12740/12740 [==============================] - 1s 41us/sample - loss: 0.2097 - acc: 0.9149\n",
      "Epoch 95/100\n",
      "12740/12740 [==============================] - 1s 40us/sample - loss: 0.2113 - acc: 0.9094\n",
      "Epoch 96/100\n",
      "12740/12740 [==============================] - 1s 40us/sample - loss: 0.2036 - acc: 0.9156\n",
      "Epoch 97/100\n",
      "12740/12740 [==============================] - 1s 40us/sample - loss: 0.1981 - acc: 0.9164\n",
      "Epoch 98/100\n",
      "12740/12740 [==============================] - 1s 41us/sample - loss: 0.1954 - acc: 0.9177\n",
      "Epoch 99/100\n",
      "12740/12740 [==============================] - 1s 40us/sample - loss: 0.2027 - acc: 0.9156\n",
      "Epoch 100/100\n",
      "12740/12740 [==============================] - 1s 41us/sample - loss: 0.1971 - acc: 0.9146\n",
      "3186/3186 [==============================] - 0s 46us/sample - loss: 0.4148 - acc: 0.8650\n",
      "[0.4147760820927593, 0.8650345]\n",
      "Classification Report: \n",
      "               precision    recall  f1-score   support\n",
      "\n",
      "           0       0.90      0.82      0.86      1593\n",
      "           1       0.83      0.91      0.87      1593\n",
      "\n",
      "    accuracy                           0.87      3186\n",
      "   macro avg       0.87      0.87      0.86      3186\n",
      "weighted avg       0.87      0.87      0.86      3186\n",
      "\n"
     ]
    }
   ],
   "source": [
    "y_preds=ANN(X_train,y_train,X_test,y_test,'binary_crossentropy',-1)"
   ]
  },
  {
   "cell_type": "markdown",
   "metadata": {},
   "source": [
    "### Method 3 : SMOTE"
   ]
  },
  {
   "cell_type": "code",
   "execution_count": 120,
   "metadata": {},
   "outputs": [],
   "source": [
    "X=df.drop('Exited',axis='columns')\n",
    "y=df['Exited']"
   ]
  },
  {
   "cell_type": "code",
   "execution_count": 121,
   "metadata": {},
   "outputs": [
    {
     "data": {
      "text/plain": [
       "0    7963\n",
       "1    2037\n",
       "Name: Exited, dtype: int64"
      ]
     },
     "execution_count": 121,
     "metadata": {},
     "output_type": "execute_result"
    }
   ],
   "source": [
    "y.value_counts()"
   ]
  },
  {
   "cell_type": "code",
   "execution_count": 122,
   "metadata": {},
   "outputs": [
    {
     "data": {
      "text/plain": [
       "1    7963\n",
       "0    7963\n",
       "Name: Exited, dtype: int64"
      ]
     },
     "execution_count": 122,
     "metadata": {},
     "output_type": "execute_result"
    }
   ],
   "source": [
    "from imblearn.over_sampling import SMOTE\n",
    "smote=SMOTE(sampling_strategy='minority')\n",
    "X_sm,y_sm=smote.fit_sample(X,y)\n",
    "\n",
    "y_sm.value_counts()"
   ]
  },
  {
   "cell_type": "code",
   "execution_count": 123,
   "metadata": {},
   "outputs": [],
   "source": [
    "X_train,X_test,y_train,y_test=train_test_split(X_sm,y_sm,random_state=15,stratify=y_sm,test_size=0.2)"
   ]
  },
  {
   "cell_type": "code",
   "execution_count": 124,
   "metadata": {},
   "outputs": [
    {
     "data": {
      "text/plain": [
       "1    6370\n",
       "0    6370\n",
       "Name: Exited, dtype: int64"
      ]
     },
     "execution_count": 124,
     "metadata": {},
     "output_type": "execute_result"
    }
   ],
   "source": [
    "y_train.value_counts()"
   ]
  },
  {
   "cell_type": "code",
   "execution_count": 125,
   "metadata": {},
   "outputs": [
    {
     "name": "stdout",
     "output_type": "stream",
     "text": [
      "Epoch 1/100\n",
      "12740/12740 [==============================] - 1s 58us/sample - loss: 0.6384 - acc: 0.6273\n",
      "Epoch 2/100\n",
      "12740/12740 [==============================] - 0s 37us/sample - loss: 0.5661 - acc: 0.7088\n",
      "Epoch 3/100\n",
      "12740/12740 [==============================] - 0s 38us/sample - loss: 0.5225 - acc: 0.7418\n",
      "Epoch 4/100\n",
      "12740/12740 [==============================] - 0s 38us/sample - loss: 0.4922 - acc: 0.7593\n",
      "Epoch 5/100\n",
      "12740/12740 [==============================] - 0s 37us/sample - loss: 0.4709 - acc: 0.7676\n",
      "Epoch 6/100\n",
      "12740/12740 [==============================] - 0s 37us/sample - loss: 0.4623 - acc: 0.7756\n",
      "Epoch 7/100\n",
      "12740/12740 [==============================] - 0s 37us/sample - loss: 0.4547 - acc: 0.7839\n",
      "Epoch 8/100\n",
      "12740/12740 [==============================] - 0s 37us/sample - loss: 0.4516 - acc: 0.7802\n",
      "Epoch 9/100\n",
      "12740/12740 [==============================] - 1s 43us/sample - loss: 0.4422 - acc: 0.7900\n",
      "Epoch 10/100\n",
      "12740/12740 [==============================] - 0s 37us/sample - loss: 0.4399 - acc: 0.7932\n",
      "Epoch 11/100\n",
      "12740/12740 [==============================] - 0s 39us/sample - loss: 0.4364 - acc: 0.7943\n",
      "Epoch 12/100\n",
      "12740/12740 [==============================] - 0s 39us/sample - loss: 0.4315 - acc: 0.7955\n",
      "Epoch 13/100\n",
      "12740/12740 [==============================] - 1s 45us/sample - loss: 0.4316 - acc: 0.7972\n",
      "Epoch 14/100\n",
      "12740/12740 [==============================] - 0s 37us/sample - loss: 0.4245 - acc: 0.8024\n",
      "Epoch 15/100\n",
      "12740/12740 [==============================] - 0s 38us/sample - loss: 0.4239 - acc: 0.8009\n",
      "Epoch 16/100\n",
      "12740/12740 [==============================] - 0s 37us/sample - loss: 0.4213 - acc: 0.8027\n",
      "Epoch 17/100\n",
      "12740/12740 [==============================] - 0s 38us/sample - loss: 0.4182 - acc: 0.8048\n",
      "Epoch 18/100\n",
      "12740/12740 [==============================] - 0s 39us/sample - loss: 0.4148 - acc: 0.8045\n",
      "Epoch 19/100\n",
      "12740/12740 [==============================] - 0s 37us/sample - loss: 0.4134 - acc: 0.8070\n",
      "Epoch 20/100\n",
      "12740/12740 [==============================] - 0s 37us/sample - loss: 0.4128 - acc: 0.8049\n",
      "Epoch 21/100\n",
      "12740/12740 [==============================] - 0s 37us/sample - loss: 0.4107 - acc: 0.8072\n",
      "Epoch 22/100\n",
      "12740/12740 [==============================] - 0s 37us/sample - loss: 0.4108 - acc: 0.8068\n",
      "Epoch 23/100\n",
      "12740/12740 [==============================] - 0s 38us/sample - loss: 0.4059 - acc: 0.8118\n",
      "Epoch 24/100\n",
      "12740/12740 [==============================] - 0s 37us/sample - loss: 0.4037 - acc: 0.8088\n",
      "Epoch 25/100\n",
      "12740/12740 [==============================] - 0s 38us/sample - loss: 0.4008 - acc: 0.8130\n",
      "Epoch 26/100\n",
      "12740/12740 [==============================] - 0s 37us/sample - loss: 0.3983 - acc: 0.8155\n",
      "Epoch 27/100\n",
      "12740/12740 [==============================] - 0s 37us/sample - loss: 0.3946 - acc: 0.8158\n",
      "Epoch 28/100\n",
      "12740/12740 [==============================] - 0s 37us/sample - loss: 0.3947 - acc: 0.8162\n",
      "Epoch 29/100\n",
      "12740/12740 [==============================] - 0s 37us/sample - loss: 0.3922 - acc: 0.8166\n",
      "Epoch 30/100\n",
      "12740/12740 [==============================] - 0s 37us/sample - loss: 0.3893 - acc: 0.8205\n",
      "Epoch 31/100\n",
      "12740/12740 [==============================] - 0s 37us/sample - loss: 0.3863 - acc: 0.8217\n",
      "Epoch 32/100\n",
      "12740/12740 [==============================] - 1s 40us/sample - loss: 0.3850 - acc: 0.8226\n",
      "Epoch 33/100\n",
      "12740/12740 [==============================] - 0s 38us/sample - loss: 0.3803 - acc: 0.8234\n",
      "Epoch 34/100\n",
      "12740/12740 [==============================] - 0s 37us/sample - loss: 0.3789 - acc: 0.8255\n",
      "Epoch 35/100\n",
      "12740/12740 [==============================] - 0s 37us/sample - loss: 0.3768 - acc: 0.8264\n",
      "Epoch 36/100\n",
      "12740/12740 [==============================] - 0s 38us/sample - loss: 0.3727 - acc: 0.8297\n",
      "Epoch 37/100\n",
      "12740/12740 [==============================] - 0s 37us/sample - loss: 0.3712 - acc: 0.8292\n",
      "Epoch 38/100\n",
      "12740/12740 [==============================] - 0s 37us/sample - loss: 0.3701 - acc: 0.8304\n",
      "Epoch 39/100\n",
      "12740/12740 [==============================] - 0s 37us/sample - loss: 0.3676 - acc: 0.8308\n",
      "Epoch 40/100\n",
      "12740/12740 [==============================] - 0s 37us/sample - loss: 0.3635 - acc: 0.8351\n",
      "Epoch 41/100\n",
      "12740/12740 [==============================] - 0s 37us/sample - loss: 0.3637 - acc: 0.8347\n",
      "Epoch 42/100\n",
      "12740/12740 [==============================] - 0s 38us/sample - loss: 0.3613 - acc: 0.8389\n",
      "Epoch 43/100\n",
      "12740/12740 [==============================] - 0s 37us/sample - loss: 0.3571 - acc: 0.83960s - loss: 0.3534 - acc: 0.\n",
      "Epoch 44/100\n",
      "12740/12740 [==============================] - 1s 43us/sample - loss: 0.3581 - acc: 0.8377\n",
      "Epoch 45/100\n",
      "12740/12740 [==============================] - 0s 38us/sample - loss: 0.3552 - acc: 0.8399\n",
      "Epoch 46/100\n",
      "12740/12740 [==============================] - 0s 39us/sample - loss: 0.3503 - acc: 0.8421\n",
      "Epoch 47/100\n",
      "12740/12740 [==============================] - 1s 44us/sample - loss: 0.3473 - acc: 0.8442\n",
      "Epoch 48/100\n",
      "12740/12740 [==============================] - 0s 36us/sample - loss: 0.3441 - acc: 0.8476\n",
      "Epoch 49/100\n",
      "12740/12740 [==============================] - 0s 39us/sample - loss: 0.3423 - acc: 0.8450\n",
      "Epoch 50/100\n",
      "12740/12740 [==============================] - 0s 37us/sample - loss: 0.3398 - acc: 0.8476\n",
      "Epoch 51/100\n",
      "12740/12740 [==============================] - 0s 37us/sample - loss: 0.3372 - acc: 0.8501\n",
      "Epoch 52/100\n",
      "12740/12740 [==============================] - 0s 37us/sample - loss: 0.3364 - acc: 0.8502\n",
      "Epoch 53/100\n",
      "12740/12740 [==============================] - 0s 37us/sample - loss: 0.3333 - acc: 0.8505\n",
      "Epoch 54/100\n",
      "12740/12740 [==============================] - 0s 37us/sample - loss: 0.3338 - acc: 0.8502\n",
      "Epoch 55/100\n",
      "12740/12740 [==============================] - 0s 37us/sample - loss: 0.3273 - acc: 0.8535\n",
      "Epoch 56/100\n",
      "12740/12740 [==============================] - 0s 37us/sample - loss: 0.3258 - acc: 0.8543\n",
      "Epoch 57/100\n",
      "12740/12740 [==============================] - 0s 37us/sample - loss: 0.3213 - acc: 0.8586\n",
      "Epoch 58/100\n",
      "12740/12740 [==============================] - 0s 37us/sample - loss: 0.3243 - acc: 0.8545\n",
      "Epoch 59/100\n",
      "12740/12740 [==============================] - 0s 37us/sample - loss: 0.3171 - acc: 0.8557\n",
      "Epoch 60/100\n",
      "12740/12740 [==============================] - 0s 36us/sample - loss: 0.3189 - acc: 0.8556\n",
      "Epoch 61/100\n",
      "12740/12740 [==============================] - 0s 36us/sample - loss: 0.3154 - acc: 0.8579\n",
      "Epoch 62/100\n",
      "12740/12740 [==============================] - 1s 48us/sample - loss: 0.3146 - acc: 0.86190s - loss: 0.3156 - acc: 0.\n",
      "Epoch 63/100\n",
      "12740/12740 [==============================] - 0s 39us/sample - loss: 0.3116 - acc: 0.8613\n",
      "Epoch 64/100\n",
      "12740/12740 [==============================] - 1s 40us/sample - loss: 0.3075 - acc: 0.8637\n",
      "Epoch 65/100\n",
      "12740/12740 [==============================] - 1s 41us/sample - loss: 0.3074 - acc: 0.8631\n",
      "Epoch 66/100\n",
      "12740/12740 [==============================] - 1s 41us/sample - loss: 0.3005 - acc: 0.8637\n",
      "Epoch 67/100\n",
      "12740/12740 [==============================] - 1s 41us/sample - loss: 0.3038 - acc: 0.8655\n",
      "Epoch 68/100\n",
      "12740/12740 [==============================] - 1s 50us/sample - loss: 0.3010 - acc: 0.8665\n",
      "Epoch 69/100\n",
      "12740/12740 [==============================] - 1s 47us/sample - loss: 0.2995 - acc: 0.8646\n",
      "Epoch 70/100\n",
      "12740/12740 [==============================] - 1s 51us/sample - loss: 0.2985 - acc: 0.8696\n",
      "Epoch 71/100\n",
      "12740/12740 [==============================] - 1s 48us/sample - loss: 0.2899 - acc: 0.8697\n",
      "Epoch 72/100\n",
      "12740/12740 [==============================] - 1s 48us/sample - loss: 0.2923 - acc: 0.8684\n",
      "Epoch 73/100\n",
      "12740/12740 [==============================] - 1s 47us/sample - loss: 0.2919 - acc: 0.8688\n",
      "Epoch 74/100\n",
      "12740/12740 [==============================] - 1s 47us/sample - loss: 0.2882 - acc: 0.8711\n",
      "Epoch 75/100\n",
      "12740/12740 [==============================] - 1s 50us/sample - loss: 0.2875 - acc: 0.8721\n",
      "Epoch 76/100\n",
      "12740/12740 [==============================] - 1s 49us/sample - loss: 0.2814 - acc: 0.8728\n",
      "Epoch 77/100\n",
      "12740/12740 [==============================] - 1s 50us/sample - loss: 0.2817 - acc: 0.8758\n",
      "Epoch 78/100\n",
      "12740/12740 [==============================] - 1s 48us/sample - loss: 0.2803 - acc: 0.8749\n",
      "Epoch 79/100\n"
     ]
    },
    {
     "name": "stdout",
     "output_type": "stream",
     "text": [
      "12740/12740 [==============================] - 1s 45us/sample - loss: 0.2777 - acc: 0.8781\n",
      "Epoch 80/100\n",
      "12740/12740 [==============================] - 1s 44us/sample - loss: 0.2762 - acc: 0.8773\n",
      "Epoch 81/100\n",
      "12740/12740 [==============================] - 1s 45us/sample - loss: 0.2778 - acc: 0.8763\n",
      "Epoch 82/100\n",
      "12740/12740 [==============================] - 1s 45us/sample - loss: 0.2754 - acc: 0.8778\n",
      "Epoch 83/100\n",
      "12740/12740 [==============================] - 1s 44us/sample - loss: 0.2684 - acc: 0.87800s - loss: 0.2667 - acc: 0.8\n",
      "Epoch 84/100\n",
      "12740/12740 [==============================] - 1s 43us/sample - loss: 0.2678 - acc: 0.8819\n",
      "Epoch 85/100\n",
      "12740/12740 [==============================] - 1s 43us/sample - loss: 0.2673 - acc: 0.8793\n",
      "Epoch 86/100\n",
      "12740/12740 [==============================] - ETA: 0s - loss: 0.2678 - acc: 0.879 - 1s 43us/sample - loss: 0.2669 - acc: 0.8802\n",
      "Epoch 87/100\n",
      "12740/12740 [==============================] - 1s 57us/sample - loss: 0.2626 - acc: 0.8819\n",
      "Epoch 88/100\n",
      "12740/12740 [==============================] - 1s 47us/sample - loss: 0.2606 - acc: 0.8829\n",
      "Epoch 89/100\n",
      "12740/12740 [==============================] - 1s 44us/sample - loss: 0.2640 - acc: 0.8834\n",
      "Epoch 90/100\n",
      "12740/12740 [==============================] - 1s 43us/sample - loss: 0.2606 - acc: 0.8847\n",
      "Epoch 91/100\n",
      "12740/12740 [==============================] - 1s 43us/sample - loss: 0.2590 - acc: 0.8842\n",
      "Epoch 92/100\n",
      "12740/12740 [==============================] - 1s 43us/sample - loss: 0.2513 - acc: 0.88980s - loss: 0.2473 - acc\n",
      "Epoch 93/100\n",
      "12740/12740 [==============================] - 1s 46us/sample - loss: 0.2528 - acc: 0.8860\n",
      "Epoch 94/100\n",
      "12740/12740 [==============================] - 1s 42us/sample - loss: 0.2494 - acc: 0.8911\n",
      "Epoch 95/100\n",
      "12740/12740 [==============================] - 1s 45us/sample - loss: 0.2498 - acc: 0.8881\n",
      "Epoch 96/100\n",
      "12740/12740 [==============================] - 1s 47us/sample - loss: 0.2465 - acc: 0.8913\n",
      "Epoch 97/100\n",
      "12740/12740 [==============================] - 1s 50us/sample - loss: 0.2483 - acc: 0.8907\n",
      "Epoch 98/100\n",
      "12740/12740 [==============================] - 1s 42us/sample - loss: 0.2464 - acc: 0.8897\n",
      "Epoch 99/100\n",
      "12740/12740 [==============================] - 1s 42us/sample - loss: 0.2529 - acc: 0.8896\n",
      "Epoch 100/100\n",
      "12740/12740 [==============================] - 1s 42us/sample - loss: 0.2442 - acc: 0.8929\n",
      "3186/3186 [==============================] - 0s 49us/sample - loss: 0.4141 - acc: 0.8396\n",
      "[0.4141091945565353, 0.8396108]\n",
      "Classification Report: \n",
      "               precision    recall  f1-score   support\n",
      "\n",
      "           0       0.87      0.80      0.83      1593\n",
      "           1       0.81      0.88      0.85      1593\n",
      "\n",
      "    accuracy                           0.84      3186\n",
      "   macro avg       0.84      0.84      0.84      3186\n",
      "weighted avg       0.84      0.84      0.84      3186\n",
      "\n"
     ]
    }
   ],
   "source": [
    "y_preds=ANN(X_train,y_train,X_test,y_test,'binary_crossentropy',-1)"
   ]
  },
  {
   "cell_type": "markdown",
   "metadata": {},
   "source": [
    "### Method 4: use of Ensemble with undersampling"
   ]
  },
  {
   "cell_type": "code",
   "execution_count": 163,
   "metadata": {},
   "outputs": [
    {
     "data": {
      "text/plain": [
       "0    7963\n",
       "1    2037\n",
       "Name: Exited, dtype: int64"
      ]
     },
     "execution_count": 163,
     "metadata": {},
     "output_type": "execute_result"
    }
   ],
   "source": [
    "df.Exited.value_counts()"
   ]
  },
  {
   "cell_type": "code",
   "execution_count": 164,
   "metadata": {},
   "outputs": [],
   "source": [
    "df3_class0=df[df.Exited==0]\n",
    "df3_class1=df[df.Exited==1]"
   ]
  },
  {
   "cell_type": "code",
   "execution_count": 165,
   "metadata": {},
   "outputs": [
    {
     "data": {
      "text/plain": [
       "(7963, 12)"
      ]
     },
     "execution_count": 165,
     "metadata": {},
     "output_type": "execute_result"
    }
   ],
   "source": [
    "df3_class0.shape"
   ]
  },
  {
   "cell_type": "code",
   "execution_count": 189,
   "metadata": {},
   "outputs": [
    {
     "data": {
      "text/plain": [
       "1990.75"
      ]
     },
     "execution_count": 189,
     "metadata": {},
     "output_type": "execute_result"
    }
   ],
   "source": [
    "7963/4"
   ]
  },
  {
   "cell_type": "code",
   "execution_count": 167,
   "metadata": {},
   "outputs": [
    {
     "data": {
      "text/plain": [
       "(2037, 12)"
      ]
     },
     "execution_count": 167,
     "metadata": {},
     "output_type": "execute_result"
    }
   ],
   "source": [
    "df3_class1.shape"
   ]
  },
  {
   "cell_type": "code",
   "execution_count": 171,
   "metadata": {},
   "outputs": [],
   "source": [
    "def get_train_batch(df_majority,df_minority,start,end):\n",
    "    df_train=pd.concat([df_majority[start:end],df_minority],axis=0)\n",
    "    \n",
    "    X=df_train.drop('Exited',axis='columns')\n",
    "    y=df_train['Exited']\n",
    "    \n",
    "    return X,y"
   ]
  },
  {
   "cell_type": "code",
   "execution_count": 190,
   "metadata": {},
   "outputs": [
    {
     "data": {
      "text/plain": [
       "1    2037\n",
       "0    1990\n",
       "Name: Exited, dtype: int64"
      ]
     },
     "execution_count": 190,
     "metadata": {},
     "output_type": "execute_result"
    }
   ],
   "source": [
    "X_en,y_en=get_train_batch(df3_class0,df3_class1,0,1990)\n",
    "y_en.value_counts()"
   ]
  },
  {
   "cell_type": "code",
   "execution_count": 191,
   "metadata": {},
   "outputs": [],
   "source": [
    "X_train,X_test,y_train,y_test=train_test_split(X_en,y_en,random_state=15,stratify=y_en,test_size=0.2)"
   ]
  },
  {
   "cell_type": "code",
   "execution_count": 192,
   "metadata": {},
   "outputs": [
    {
     "name": "stdout",
     "output_type": "stream",
     "text": [
      "Epoch 1/100\n",
      "3221/3221 [==============================] - 0s 120us/sample - loss: 0.6647 - acc: 0.5955\n",
      "Epoch 2/100\n",
      "3221/3221 [==============================] - 0s 47us/sample - loss: 0.6262 - acc: 0.6541\n",
      "Epoch 3/100\n",
      "3221/3221 [==============================] - 0s 47us/sample - loss: 0.6018 - acc: 0.6762\n",
      "Epoch 4/100\n",
      "3221/3221 [==============================] - 0s 47us/sample - loss: 0.5735 - acc: 0.6989\n",
      "Epoch 5/100\n",
      "3221/3221 [==============================] - 0s 47us/sample - loss: 0.5618 - acc: 0.7016\n",
      "Epoch 6/100\n",
      "3221/3221 [==============================] - 0s 47us/sample - loss: 0.5375 - acc: 0.7234\n",
      "Epoch 7/100\n",
      "3221/3221 [==============================] - 0s 48us/sample - loss: 0.5196 - acc: 0.7395\n",
      "Epoch 8/100\n",
      "3221/3221 [==============================] - 0s 46us/sample - loss: 0.5143 - acc: 0.7423\n",
      "Epoch 9/100\n",
      "3221/3221 [==============================] - 0s 46us/sample - loss: 0.4987 - acc: 0.7541\n",
      "Epoch 10/100\n",
      "3221/3221 [==============================] - 0s 51us/sample - loss: 0.4930 - acc: 0.7622\n",
      "Epoch 11/100\n",
      "3221/3221 [==============================] - 0s 47us/sample - loss: 0.4951 - acc: 0.7526\n",
      "Epoch 12/100\n",
      "3221/3221 [==============================] - 0s 48us/sample - loss: 0.4891 - acc: 0.7575\n",
      "Epoch 13/100\n",
      "3221/3221 [==============================] - 0s 47us/sample - loss: 0.4869 - acc: 0.7640\n",
      "Epoch 14/100\n",
      "3221/3221 [==============================] - 0s 47us/sample - loss: 0.4805 - acc: 0.7675\n",
      "Epoch 15/100\n",
      "3221/3221 [==============================] - 0s 50us/sample - loss: 0.4728 - acc: 0.7706\n",
      "Epoch 16/100\n",
      "3221/3221 [==============================] - 0s 47us/sample - loss: 0.4719 - acc: 0.7696\n",
      "Epoch 17/100\n",
      "3221/3221 [==============================] - 0s 50us/sample - loss: 0.4667 - acc: 0.7684\n",
      "Epoch 18/100\n",
      "3221/3221 [==============================] - 0s 48us/sample - loss: 0.4650 - acc: 0.7724\n",
      "Epoch 19/100\n",
      "3221/3221 [==============================] - 0s 49us/sample - loss: 0.4640 - acc: 0.7755\n",
      "Epoch 20/100\n",
      "3221/3221 [==============================] - 0s 48us/sample - loss: 0.4580 - acc: 0.7765\n",
      "Epoch 21/100\n",
      "3221/3221 [==============================] - 0s 49us/sample - loss: 0.4578 - acc: 0.7765\n",
      "Epoch 22/100\n",
      "3221/3221 [==============================] - 0s 48us/sample - loss: 0.4568 - acc: 0.7737\n",
      "Epoch 23/100\n",
      "3221/3221 [==============================] - 0s 47us/sample - loss: 0.4558 - acc: 0.7771\n",
      "Epoch 24/100\n",
      "3221/3221 [==============================] - 0s 48us/sample - loss: 0.4541 - acc: 0.7777\n",
      "Epoch 25/100\n",
      "3221/3221 [==============================] - 0s 48us/sample - loss: 0.4505 - acc: 0.7777\n",
      "Epoch 26/100\n",
      "3221/3221 [==============================] - 0s 47us/sample - loss: 0.4460 - acc: 0.7836\n",
      "Epoch 27/100\n",
      "3221/3221 [==============================] - 0s 48us/sample - loss: 0.4499 - acc: 0.7814\n",
      "Epoch 28/100\n",
      "3221/3221 [==============================] - 0s 47us/sample - loss: 0.4445 - acc: 0.7824\n",
      "Epoch 29/100\n",
      "3221/3221 [==============================] - 0s 47us/sample - loss: 0.4466 - acc: 0.7842\n",
      "Epoch 30/100\n",
      "3221/3221 [==============================] - 0s 47us/sample - loss: 0.4434 - acc: 0.7842\n",
      "Epoch 31/100\n",
      "3221/3221 [==============================] - 0s 51us/sample - loss: 0.4467 - acc: 0.7805\n",
      "Epoch 32/100\n",
      "3221/3221 [==============================] - 0s 47us/sample - loss: 0.4395 - acc: 0.7845\n",
      "Epoch 33/100\n",
      "3221/3221 [==============================] - 0s 47us/sample - loss: 0.4473 - acc: 0.7821\n",
      "Epoch 34/100\n",
      "3221/3221 [==============================] - 0s 47us/sample - loss: 0.4390 - acc: 0.7842\n",
      "Epoch 35/100\n",
      "3221/3221 [==============================] - 0s 47us/sample - loss: 0.4343 - acc: 0.7814\n",
      "Epoch 36/100\n",
      "3221/3221 [==============================] - 0s 47us/sample - loss: 0.4352 - acc: 0.7814\n",
      "Epoch 37/100\n",
      "3221/3221 [==============================] - 0s 47us/sample - loss: 0.4300 - acc: 0.7892\n",
      "Epoch 38/100\n",
      "3221/3221 [==============================] - 0s 48us/sample - loss: 0.4334 - acc: 0.7889\n",
      "Epoch 39/100\n",
      "3221/3221 [==============================] - 0s 47us/sample - loss: 0.4253 - acc: 0.7904\n",
      "Epoch 40/100\n",
      "3221/3221 [==============================] - 0s 48us/sample - loss: 0.4243 - acc: 0.7954\n",
      "Epoch 41/100\n",
      "3221/3221 [==============================] - 0s 48us/sample - loss: 0.4278 - acc: 0.7901\n",
      "Epoch 42/100\n",
      "3221/3221 [==============================] - 0s 48us/sample - loss: 0.4261 - acc: 0.7895\n",
      "Epoch 43/100\n",
      "3221/3221 [==============================] - 0s 49us/sample - loss: 0.4207 - acc: 0.7948\n",
      "Epoch 44/100\n",
      "3221/3221 [==============================] - 0s 48us/sample - loss: 0.4268 - acc: 0.7880\n",
      "Epoch 45/100\n",
      "3221/3221 [==============================] - 0s 46us/sample - loss: 0.4190 - acc: 0.7963\n",
      "Epoch 46/100\n",
      "3221/3221 [==============================] - 0s 46us/sample - loss: 0.4211 - acc: 0.7920\n",
      "Epoch 47/100\n",
      "3221/3221 [==============================] - 0s 47us/sample - loss: 0.4153 - acc: 0.7914\n",
      "Epoch 48/100\n",
      "3221/3221 [==============================] - 0s 47us/sample - loss: 0.4138 - acc: 0.8038\n",
      "Epoch 49/100\n",
      "3221/3221 [==============================] - 0s 49us/sample - loss: 0.4128 - acc: 0.8022\n",
      "Epoch 50/100\n",
      "3221/3221 [==============================] - 0s 48us/sample - loss: 0.4113 - acc: 0.8035\n",
      "Epoch 51/100\n",
      "3221/3221 [==============================] - 0s 50us/sample - loss: 0.4085 - acc: 0.8038\n",
      "Epoch 52/100\n",
      "3221/3221 [==============================] - 0s 50us/sample - loss: 0.4033 - acc: 0.8035\n",
      "Epoch 53/100\n",
      "3221/3221 [==============================] - 0s 49us/sample - loss: 0.4014 - acc: 0.8041\n",
      "Epoch 54/100\n",
      "3221/3221 [==============================] - 0s 49us/sample - loss: 0.4090 - acc: 0.8038\n",
      "Epoch 55/100\n",
      "3221/3221 [==============================] - 0s 49us/sample - loss: 0.4105 - acc: 0.7979\n",
      "Epoch 56/100\n",
      "3221/3221 [==============================] - 0s 47us/sample - loss: 0.4006 - acc: 0.8063\n",
      "Epoch 57/100\n",
      "3221/3221 [==============================] - 0s 47us/sample - loss: 0.3988 - acc: 0.8072\n",
      "Epoch 58/100\n",
      "3221/3221 [==============================] - 0s 51us/sample - loss: 0.3977 - acc: 0.8094\n",
      "Epoch 59/100\n",
      "3221/3221 [==============================] - 0s 49us/sample - loss: 0.3973 - acc: 0.8106\n",
      "Epoch 60/100\n",
      "3221/3221 [==============================] - 0s 49us/sample - loss: 0.3900 - acc: 0.8131\n",
      "Epoch 61/100\n",
      "3221/3221 [==============================] - 0s 48us/sample - loss: 0.3896 - acc: 0.8075\n",
      "Epoch 62/100\n",
      "3221/3221 [==============================] - 0s 47us/sample - loss: 0.3957 - acc: 0.8044\n",
      "Epoch 63/100\n",
      "3221/3221 [==============================] - 0s 50us/sample - loss: 0.3833 - acc: 0.8137\n",
      "Epoch 64/100\n",
      "3221/3221 [==============================] - 0s 48us/sample - loss: 0.3904 - acc: 0.8165\n",
      "Epoch 65/100\n",
      "3221/3221 [==============================] - 0s 50us/sample - loss: 0.3836 - acc: 0.8193\n",
      "Epoch 66/100\n",
      "3221/3221 [==============================] - 0s 47us/sample - loss: 0.3820 - acc: 0.8202\n",
      "Epoch 67/100\n",
      "3221/3221 [==============================] - 0s 49us/sample - loss: 0.3805 - acc: 0.8255\n",
      "Epoch 68/100\n",
      "3221/3221 [==============================] - 0s 47us/sample - loss: 0.3760 - acc: 0.8206\n",
      "Epoch 69/100\n",
      "3221/3221 [==============================] - 0s 47us/sample - loss: 0.3803 - acc: 0.8187\n",
      "Epoch 70/100\n",
      "3221/3221 [==============================] - 0s 49us/sample - loss: 0.3765 - acc: 0.8202\n",
      "Epoch 71/100\n",
      "3221/3221 [==============================] - 0s 47us/sample - loss: 0.3744 - acc: 0.8227\n",
      "Epoch 72/100\n",
      "3221/3221 [==============================] - 0s 48us/sample - loss: 0.3809 - acc: 0.8271\n",
      "Epoch 73/100\n",
      "3221/3221 [==============================] - 0s 47us/sample - loss: 0.3656 - acc: 0.8243\n",
      "Epoch 74/100\n",
      "3221/3221 [==============================] - 0s 49us/sample - loss: 0.3676 - acc: 0.8261\n",
      "Epoch 75/100\n",
      "3221/3221 [==============================] - 0s 49us/sample - loss: 0.3575 - acc: 0.8255\n",
      "Epoch 76/100\n",
      "3221/3221 [==============================] - 0s 46us/sample - loss: 0.3671 - acc: 0.8224\n",
      "Epoch 77/100\n",
      "3221/3221 [==============================] - 0s 47us/sample - loss: 0.3563 - acc: 0.8289\n",
      "Epoch 78/100\n",
      "3221/3221 [==============================] - 0s 49us/sample - loss: 0.3482 - acc: 0.8333\n",
      "Epoch 79/100\n",
      "3221/3221 [==============================] - 0s 47us/sample - loss: 0.3485 - acc: 0.8441\n",
      "Epoch 80/100\n",
      "3221/3221 [==============================] - 0s 49us/sample - loss: 0.3469 - acc: 0.8373\n",
      "Epoch 81/100\n"
     ]
    },
    {
     "name": "stdout",
     "output_type": "stream",
     "text": [
      "3221/3221 [==============================] - 0s 50us/sample - loss: 0.3490 - acc: 0.8314\n",
      "Epoch 82/100\n",
      "3221/3221 [==============================] - 0s 47us/sample - loss: 0.3479 - acc: 0.8382\n",
      "Epoch 83/100\n",
      "3221/3221 [==============================] - 0s 46us/sample - loss: 0.3420 - acc: 0.8398\n",
      "Epoch 84/100\n",
      "3221/3221 [==============================] - 0s 46us/sample - loss: 0.3446 - acc: 0.8376\n",
      "Epoch 85/100\n",
      "3221/3221 [==============================] - 0s 46us/sample - loss: 0.3415 - acc: 0.8429\n",
      "Epoch 86/100\n",
      "3221/3221 [==============================] - 0s 48us/sample - loss: 0.3427 - acc: 0.8348\n",
      "Epoch 87/100\n",
      "3221/3221 [==============================] - 0s 48us/sample - loss: 0.3272 - acc: 0.8525\n",
      "Epoch 88/100\n",
      "3221/3221 [==============================] - 0s 48us/sample - loss: 0.3276 - acc: 0.8466\n",
      "Epoch 89/100\n",
      "3221/3221 [==============================] - 0s 48us/sample - loss: 0.3326 - acc: 0.8414\n",
      "Epoch 90/100\n",
      "3221/3221 [==============================] - 0s 47us/sample - loss: 0.3282 - acc: 0.8488\n",
      "Epoch 91/100\n",
      "3221/3221 [==============================] - 0s 47us/sample - loss: 0.3240 - acc: 0.8522\n",
      "Epoch 92/100\n",
      "3221/3221 [==============================] - 0s 47us/sample - loss: 0.3221 - acc: 0.8497\n",
      "Epoch 93/100\n",
      "3221/3221 [==============================] - 0s 49us/sample - loss: 0.3185 - acc: 0.8532\n",
      "Epoch 94/100\n",
      "3221/3221 [==============================] - 0s 47us/sample - loss: 0.3178 - acc: 0.8513\n",
      "Epoch 95/100\n",
      "3221/3221 [==============================] - 0s 47us/sample - loss: 0.3177 - acc: 0.8563\n",
      "Epoch 96/100\n",
      "3221/3221 [==============================] - 0s 49us/sample - loss: 0.3196 - acc: 0.8457\n",
      "Epoch 97/100\n",
      "3221/3221 [==============================] - 0s 48us/sample - loss: 0.3151 - acc: 0.8488\n",
      "Epoch 98/100\n",
      "3221/3221 [==============================] - 0s 49us/sample - loss: 0.3153 - acc: 0.8532\n",
      "Epoch 99/100\n",
      "3221/3221 [==============================] - 0s 47us/sample - loss: 0.3049 - acc: 0.8649\n",
      "Epoch 100/100\n",
      "3221/3221 [==============================] - 0s 47us/sample - loss: 0.3062 - acc: 0.8578\n",
      "806/806 [==============================] - 0s 211us/sample - loss: 0.6642 - acc: 0.7395\n",
      "[0.6642276535258991, 0.7394541]\n",
      "Classification Report: \n",
      "               precision    recall  f1-score   support\n",
      "\n",
      "           0       0.73      0.75      0.74       398\n",
      "           1       0.75      0.73      0.74       408\n",
      "\n",
      "    accuracy                           0.74       806\n",
      "   macro avg       0.74      0.74      0.74       806\n",
      "weighted avg       0.74      0.74      0.74       806\n",
      "\n"
     ]
    }
   ],
   "source": [
    "y_pred1=ANN(X_train,y_train,X_test,y_test,'binary_crossentropy',-1)"
   ]
  },
  {
   "cell_type": "code",
   "execution_count": 193,
   "metadata": {},
   "outputs": [
    {
     "data": {
      "text/plain": [
       "1    2037\n",
       "0    1990\n",
       "Name: Exited, dtype: int64"
      ]
     },
     "execution_count": 193,
     "metadata": {},
     "output_type": "execute_result"
    }
   ],
   "source": [
    "X_en_1,y_en_1=get_train_batch(df3_class0,df3_class1,1991,3981)\n",
    "y_en_1.value_counts()"
   ]
  },
  {
   "cell_type": "code",
   "execution_count": 194,
   "metadata": {},
   "outputs": [],
   "source": [
    "X_train,X_test,y_train,y_test=train_test_split(X_en_1,y_en_1,random_state=15,stratify=y_en_1,test_size=0.2)"
   ]
  },
  {
   "cell_type": "code",
   "execution_count": 195,
   "metadata": {},
   "outputs": [
    {
     "name": "stdout",
     "output_type": "stream",
     "text": [
      "Epoch 1/100\n",
      "3221/3221 [==============================] - 0s 125us/sample - loss: 0.6905 - acc: 0.5275\n",
      "Epoch 2/100\n",
      "3221/3221 [==============================] - 0s 47us/sample - loss: 0.6610 - acc: 0.6073\n",
      "Epoch 3/100\n",
      "3221/3221 [==============================] - 0s 48us/sample - loss: 0.6372 - acc: 0.6368\n",
      "Epoch 4/100\n",
      "3221/3221 [==============================] - 0s 50us/sample - loss: 0.6322 - acc: 0.6433\n",
      "Epoch 5/100\n",
      "3221/3221 [==============================] - 0s 49us/sample - loss: 0.6159 - acc: 0.6687\n",
      "Epoch 6/100\n",
      "3221/3221 [==============================] - 0s 47us/sample - loss: 0.5994 - acc: 0.6818\n",
      "Epoch 7/100\n",
      "3221/3221 [==============================] - 0s 49us/sample - loss: 0.5860 - acc: 0.6902\n",
      "Epoch 8/100\n",
      "3221/3221 [==============================] - 0s 48us/sample - loss: 0.5667 - acc: 0.7082\n",
      "Epoch 9/100\n",
      "3221/3221 [==============================] - 0s 48us/sample - loss: 0.5583 - acc: 0.7144\n",
      "Epoch 10/100\n",
      "3221/3221 [==============================] - 0s 47us/sample - loss: 0.5510 - acc: 0.7181\n",
      "Epoch 11/100\n",
      "3221/3221 [==============================] - 0s 48us/sample - loss: 0.5368 - acc: 0.7290\n",
      "Epoch 12/100\n",
      "3221/3221 [==============================] - 0s 49us/sample - loss: 0.5256 - acc: 0.7414\n",
      "Epoch 13/100\n",
      "3221/3221 [==============================] - 0s 47us/sample - loss: 0.5226 - acc: 0.7414\n",
      "Epoch 14/100\n",
      "3221/3221 [==============================] - 0s 48us/sample - loss: 0.5190 - acc: 0.7445\n",
      "Epoch 15/100\n",
      "3221/3221 [==============================] - 0s 47us/sample - loss: 0.5161 - acc: 0.7405\n",
      "Epoch 16/100\n",
      "3221/3221 [==============================] - 0s 50us/sample - loss: 0.5112 - acc: 0.7513\n",
      "Epoch 17/100\n",
      "3221/3221 [==============================] - 0s 47us/sample - loss: 0.5000 - acc: 0.7516\n",
      "Epoch 18/100\n",
      "3221/3221 [==============================] - 0s 49us/sample - loss: 0.4985 - acc: 0.7544\n",
      "Epoch 19/100\n",
      "3221/3221 [==============================] - 0s 47us/sample - loss: 0.4907 - acc: 0.7572\n",
      "Epoch 20/100\n",
      "3221/3221 [==============================] - 0s 49us/sample - loss: 0.4867 - acc: 0.7656\n",
      "Epoch 21/100\n",
      "3221/3221 [==============================] - 0s 49us/sample - loss: 0.4876 - acc: 0.7585\n",
      "Epoch 22/100\n",
      "3221/3221 [==============================] - 0s 49us/sample - loss: 0.4834 - acc: 0.7659\n",
      "Epoch 23/100\n",
      "3221/3221 [==============================] - 0s 48us/sample - loss: 0.4782 - acc: 0.7699\n",
      "Epoch 24/100\n",
      "3221/3221 [==============================] - 0s 50us/sample - loss: 0.4808 - acc: 0.7687\n",
      "Epoch 25/100\n",
      "3221/3221 [==============================] - 0s 49us/sample - loss: 0.4783 - acc: 0.7693\n",
      "Epoch 26/100\n",
      "3221/3221 [==============================] - 0s 48us/sample - loss: 0.4706 - acc: 0.7777\n",
      "Epoch 27/100\n",
      "3221/3221 [==============================] - 0s 47us/sample - loss: 0.4652 - acc: 0.7771\n",
      "Epoch 28/100\n",
      "3221/3221 [==============================] - 0s 49us/sample - loss: 0.4683 - acc: 0.7774\n",
      "Epoch 29/100\n",
      "3221/3221 [==============================] - 0s 47us/sample - loss: 0.4634 - acc: 0.7752\n",
      "Epoch 30/100\n",
      "3221/3221 [==============================] - 0s 49us/sample - loss: 0.4635 - acc: 0.7765\n",
      "Epoch 31/100\n",
      "3221/3221 [==============================] - 0s 48us/sample - loss: 0.4554 - acc: 0.7777\n",
      "Epoch 32/100\n",
      "3221/3221 [==============================] - 0s 47us/sample - loss: 0.4541 - acc: 0.7833\n",
      "Epoch 33/100\n",
      "3221/3221 [==============================] - 0s 48us/sample - loss: 0.4529 - acc: 0.7836\n",
      "Epoch 34/100\n",
      "3221/3221 [==============================] - 0s 48us/sample - loss: 0.4483 - acc: 0.7901\n",
      "Epoch 35/100\n",
      "3221/3221 [==============================] - 0s 47us/sample - loss: 0.4457 - acc: 0.7867\n",
      "Epoch 36/100\n",
      "3221/3221 [==============================] - 0s 47us/sample - loss: 0.4403 - acc: 0.7929\n",
      "Epoch 37/100\n",
      "3221/3221 [==============================] - 0s 48us/sample - loss: 0.4406 - acc: 0.7929\n",
      "Epoch 38/100\n",
      "3221/3221 [==============================] - 0s 49us/sample - loss: 0.4451 - acc: 0.7935\n",
      "Epoch 39/100\n",
      "3221/3221 [==============================] - 0s 49us/sample - loss: 0.4368 - acc: 0.7932\n",
      "Epoch 40/100\n",
      "3221/3221 [==============================] - 0s 48us/sample - loss: 0.4358 - acc: 0.7939\n",
      "Epoch 41/100\n",
      "3221/3221 [==============================] - 0s 48us/sample - loss: 0.4387 - acc: 0.7892\n",
      "Epoch 42/100\n",
      "3221/3221 [==============================] - 0s 49us/sample - loss: 0.4346 - acc: 0.7923\n",
      "Epoch 43/100\n",
      "3221/3221 [==============================] - 0s 51us/sample - loss: 0.4268 - acc: 0.7982\n",
      "Epoch 44/100\n",
      "3221/3221 [==============================] - 0s 48us/sample - loss: 0.4261 - acc: 0.7988\n",
      "Epoch 45/100\n",
      "3221/3221 [==============================] - 0s 48us/sample - loss: 0.4329 - acc: 0.7988\n",
      "Epoch 46/100\n",
      "3221/3221 [==============================] - 0s 47us/sample - loss: 0.4275 - acc: 0.7939\n",
      "Epoch 47/100\n",
      "3221/3221 [==============================] - 0s 49us/sample - loss: 0.4312 - acc: 0.7948\n",
      "Epoch 48/100\n",
      "3221/3221 [==============================] - 0s 48us/sample - loss: 0.4189 - acc: 0.8057\n",
      "Epoch 49/100\n",
      "3221/3221 [==============================] - 0s 50us/sample - loss: 0.4146 - acc: 0.8029\n",
      "Epoch 50/100\n",
      "3221/3221 [==============================] - 0s 47us/sample - loss: 0.4184 - acc: 0.8029\n",
      "Epoch 51/100\n",
      "3221/3221 [==============================] - 0s 48us/sample - loss: 0.4115 - acc: 0.8081\n",
      "Epoch 52/100\n",
      "3221/3221 [==============================] - 0s 49us/sample - loss: 0.4168 - acc: 0.8060\n",
      "Epoch 53/100\n",
      "3221/3221 [==============================] - 0s 50us/sample - loss: 0.4134 - acc: 0.8025\n",
      "Epoch 54/100\n",
      "3221/3221 [==============================] - 0s 51us/sample - loss: 0.4068 - acc: 0.8053\n",
      "Epoch 55/100\n",
      "3221/3221 [==============================] - 0s 50us/sample - loss: 0.4074 - acc: 0.8078\n",
      "Epoch 56/100\n",
      "3221/3221 [==============================] - 0s 48us/sample - loss: 0.4094 - acc: 0.8091\n",
      "Epoch 57/100\n",
      "3221/3221 [==============================] - 0s 47us/sample - loss: 0.4046 - acc: 0.8084\n",
      "Epoch 58/100\n",
      "3221/3221 [==============================] - 0s 50us/sample - loss: 0.4020 - acc: 0.8119\n",
      "Epoch 59/100\n",
      "3221/3221 [==============================] - 0s 49us/sample - loss: 0.4073 - acc: 0.8128\n",
      "Epoch 60/100\n",
      "3221/3221 [==============================] - 0s 52us/sample - loss: 0.4018 - acc: 0.8119\n",
      "Epoch 61/100\n",
      "3221/3221 [==============================] - 0s 57us/sample - loss: 0.4044 - acc: 0.8088\n",
      "Epoch 62/100\n",
      "3221/3221 [==============================] - 0s 56us/sample - loss: 0.3955 - acc: 0.8153\n",
      "Epoch 63/100\n",
      "3221/3221 [==============================] - 0s 53us/sample - loss: 0.3966 - acc: 0.8187\n",
      "Epoch 64/100\n",
      "3221/3221 [==============================] - 0s 52us/sample - loss: 0.4003 - acc: 0.8187\n",
      "Epoch 65/100\n",
      "3221/3221 [==============================] - 0s 48us/sample - loss: 0.3938 - acc: 0.8134\n",
      "Epoch 66/100\n",
      "3221/3221 [==============================] - 0s 48us/sample - loss: 0.3902 - acc: 0.8196\n",
      "Epoch 67/100\n",
      "3221/3221 [==============================] - 0s 47us/sample - loss: 0.3950 - acc: 0.8156\n",
      "Epoch 68/100\n",
      "3221/3221 [==============================] - 0s 47us/sample - loss: 0.3944 - acc: 0.8178\n",
      "Epoch 69/100\n",
      "3221/3221 [==============================] - 0s 49us/sample - loss: 0.3886 - acc: 0.8224\n",
      "Epoch 70/100\n",
      "3221/3221 [==============================] - 0s 47us/sample - loss: 0.3818 - acc: 0.8224\n",
      "Epoch 71/100\n",
      "3221/3221 [==============================] - 0s 50us/sample - loss: 0.3861 - acc: 0.8178\n",
      "Epoch 72/100\n",
      "3221/3221 [==============================] - 0s 47us/sample - loss: 0.3878 - acc: 0.8218\n",
      "Epoch 73/100\n",
      "3221/3221 [==============================] - 0s 49us/sample - loss: 0.3786 - acc: 0.8227\n",
      "Epoch 74/100\n",
      "3221/3221 [==============================] - 0s 50us/sample - loss: 0.3812 - acc: 0.8233\n",
      "Epoch 75/100\n",
      "3221/3221 [==============================] - 0s 48us/sample - loss: 0.3802 - acc: 0.8215\n",
      "Epoch 76/100\n",
      "3221/3221 [==============================] - 0s 49us/sample - loss: 0.3778 - acc: 0.8277\n",
      "Epoch 77/100\n",
      "3221/3221 [==============================] - 0s 47us/sample - loss: 0.3743 - acc: 0.8283\n",
      "Epoch 78/100\n",
      "3221/3221 [==============================] - 0s 48us/sample - loss: 0.3775 - acc: 0.8240\n",
      "Epoch 79/100\n",
      "3221/3221 [==============================] - 0s 48us/sample - loss: 0.3730 - acc: 0.8230\n",
      "Epoch 80/100\n",
      "3221/3221 [==============================] - 0s 49us/sample - loss: 0.3733 - acc: 0.8302\n",
      "Epoch 81/100\n"
     ]
    },
    {
     "name": "stdout",
     "output_type": "stream",
     "text": [
      "3221/3221 [==============================] - 0s 50us/sample - loss: 0.3709 - acc: 0.8324\n",
      "Epoch 82/100\n",
      "3221/3221 [==============================] - 0s 46us/sample - loss: 0.3658 - acc: 0.8314\n",
      "Epoch 83/100\n",
      "3221/3221 [==============================] - 0s 47us/sample - loss: 0.3714 - acc: 0.8249\n",
      "Epoch 84/100\n",
      "3221/3221 [==============================] - 0s 46us/sample - loss: 0.3628 - acc: 0.8296\n",
      "Epoch 85/100\n",
      "3221/3221 [==============================] - 0s 46us/sample - loss: 0.3638 - acc: 0.8292\n",
      "Epoch 86/100\n",
      "3221/3221 [==============================] - 0s 46us/sample - loss: 0.3591 - acc: 0.8348\n",
      "Epoch 87/100\n",
      "3221/3221 [==============================] - 0s 47us/sample - loss: 0.3618 - acc: 0.8348\n",
      "Epoch 88/100\n",
      "3221/3221 [==============================] - 0s 47us/sample - loss: 0.3625 - acc: 0.8330\n",
      "Epoch 89/100\n",
      "3221/3221 [==============================] - 0s 46us/sample - loss: 0.3566 - acc: 0.8330\n",
      "Epoch 90/100\n",
      "3221/3221 [==============================] - 0s 47us/sample - loss: 0.3567 - acc: 0.8348\n",
      "Epoch 91/100\n",
      "3221/3221 [==============================] - 0s 48us/sample - loss: 0.3518 - acc: 0.8336\n",
      "Epoch 92/100\n",
      "3221/3221 [==============================] - 0s 45us/sample - loss: 0.3449 - acc: 0.8401\n",
      "Epoch 93/100\n",
      "3221/3221 [==============================] - 0s 46us/sample - loss: 0.3494 - acc: 0.8373\n",
      "Epoch 94/100\n",
      "3221/3221 [==============================] - 0s 46us/sample - loss: 0.3439 - acc: 0.8410\n",
      "Epoch 95/100\n",
      "3221/3221 [==============================] - 0s 46us/sample - loss: 0.3423 - acc: 0.8451\n",
      "Epoch 96/100\n",
      "3221/3221 [==============================] - 0s 46us/sample - loss: 0.3487 - acc: 0.8395\n",
      "Epoch 97/100\n",
      "3221/3221 [==============================] - 0s 45us/sample - loss: 0.3583 - acc: 0.8355\n",
      "Epoch 98/100\n",
      "3221/3221 [==============================] - 0s 46us/sample - loss: 0.3413 - acc: 0.8414\n",
      "Epoch 99/100\n",
      "3221/3221 [==============================] - 0s 46us/sample - loss: 0.3360 - acc: 0.84630s - loss: 0.3381 - acc: 0.84\n",
      "Epoch 100/100\n",
      "3221/3221 [==============================] - 0s 46us/sample - loss: 0.3318 - acc: 0.8441\n",
      "806/806 [==============================] - 0s 222us/sample - loss: 0.6786 - acc: 0.7308\n",
      "[0.6786486841830663, 0.7307692]\n",
      "Classification Report: \n",
      "               precision    recall  f1-score   support\n",
      "\n",
      "           0       0.72      0.75      0.73       398\n",
      "           1       0.75      0.71      0.73       408\n",
      "\n",
      "    accuracy                           0.73       806\n",
      "   macro avg       0.73      0.73      0.73       806\n",
      "weighted avg       0.73      0.73      0.73       806\n",
      "\n"
     ]
    }
   ],
   "source": [
    "y_pred2=ANN(X_train,y_train,X_test,y_test,'binary_crossentropy',-1)"
   ]
  },
  {
   "cell_type": "code",
   "execution_count": 196,
   "metadata": {},
   "outputs": [
    {
     "data": {
      "text/plain": [
       "1    2037\n",
       "0    1989\n",
       "Name: Exited, dtype: int64"
      ]
     },
     "execution_count": 196,
     "metadata": {},
     "output_type": "execute_result"
    }
   ],
   "source": [
    "X_en_2,y_en_2=get_train_batch(df3_class0,df3_class1,3982,5971)\n",
    "y_en_2.value_counts()"
   ]
  },
  {
   "cell_type": "code",
   "execution_count": 197,
   "metadata": {},
   "outputs": [],
   "source": [
    "X_train,X_test,y_train,y_test=train_test_split(X_en_2,y_en_2,random_state=15,stratify=y_en_2,test_size=0.2)"
   ]
  },
  {
   "cell_type": "code",
   "execution_count": 198,
   "metadata": {},
   "outputs": [
    {
     "name": "stdout",
     "output_type": "stream",
     "text": [
      "Epoch 1/100\n",
      "3220/3220 [==============================] - 0s 126us/sample - loss: 0.6643 - acc: 0.5938\n",
      "Epoch 2/100\n",
      "3220/3220 [==============================] - 0s 47us/sample - loss: 0.6145 - acc: 0.6606\n",
      "Epoch 3/100\n",
      "3220/3220 [==============================] - 0s 47us/sample - loss: 0.5816 - acc: 0.6960\n",
      "Epoch 4/100\n",
      "3220/3220 [==============================] - 0s 47us/sample - loss: 0.5615 - acc: 0.7062\n",
      "Epoch 5/100\n",
      "3220/3220 [==============================] - 0s 47us/sample - loss: 0.5350 - acc: 0.7329\n",
      "Epoch 6/100\n",
      "3220/3220 [==============================] - 0s 48us/sample - loss: 0.5237 - acc: 0.7311\n",
      "Epoch 7/100\n",
      "3220/3220 [==============================] - 0s 48us/sample - loss: 0.5178 - acc: 0.7432\n",
      "Epoch 8/100\n",
      "3220/3220 [==============================] - 0s 47us/sample - loss: 0.5136 - acc: 0.7422\n",
      "Epoch 9/100\n",
      "3220/3220 [==============================] - 0s 45us/sample - loss: 0.5066 - acc: 0.7447\n",
      "Epoch 10/100\n",
      "3220/3220 [==============================] - 0s 49us/sample - loss: 0.5097 - acc: 0.7382\n",
      "Epoch 11/100\n",
      "3220/3220 [==============================] - 0s 48us/sample - loss: 0.5028 - acc: 0.7481\n",
      "Epoch 12/100\n",
      "3220/3220 [==============================] - 0s 47us/sample - loss: 0.4967 - acc: 0.7575\n",
      "Epoch 13/100\n",
      "3220/3220 [==============================] - 0s 49us/sample - loss: 0.4900 - acc: 0.7543\n",
      "Epoch 14/100\n",
      "3220/3220 [==============================] - 0s 48us/sample - loss: 0.4879 - acc: 0.7599\n",
      "Epoch 15/100\n",
      "3220/3220 [==============================] - 0s 48us/sample - loss: 0.4867 - acc: 0.7634\n",
      "Epoch 16/100\n",
      "3220/3220 [==============================] - 0s 46us/sample - loss: 0.4869 - acc: 0.7649\n",
      "Epoch 17/100\n",
      "3220/3220 [==============================] - 0s 47us/sample - loss: 0.4831 - acc: 0.7705\n",
      "Epoch 18/100\n",
      "3220/3220 [==============================] - 0s 49us/sample - loss: 0.4751 - acc: 0.7724\n",
      "Epoch 19/100\n",
      "3220/3220 [==============================] - 0s 47us/sample - loss: 0.4775 - acc: 0.7661\n",
      "Epoch 20/100\n",
      "3220/3220 [==============================] - 0s 49us/sample - loss: 0.4737 - acc: 0.7739\n",
      "Epoch 21/100\n",
      "3220/3220 [==============================] - 0s 48us/sample - loss: 0.4727 - acc: 0.7733\n",
      "Epoch 22/100\n",
      "3220/3220 [==============================] - 0s 48us/sample - loss: 0.4716 - acc: 0.7730\n",
      "Epoch 23/100\n",
      "3220/3220 [==============================] - 0s 49us/sample - loss: 0.4710 - acc: 0.7724\n",
      "Epoch 24/100\n",
      "3220/3220 [==============================] - 0s 47us/sample - loss: 0.4630 - acc: 0.7801\n",
      "Epoch 25/100\n",
      "3220/3220 [==============================] - 0s 49us/sample - loss: 0.4609 - acc: 0.7755\n",
      "Epoch 26/100\n",
      "3220/3220 [==============================] - 0s 49us/sample - loss: 0.4661 - acc: 0.7783\n",
      "Epoch 27/100\n",
      "3220/3220 [==============================] - 0s 49us/sample - loss: 0.4668 - acc: 0.7736\n",
      "Epoch 28/100\n",
      "3220/3220 [==============================] - 0s 49us/sample - loss: 0.4559 - acc: 0.7755\n",
      "Epoch 29/100\n",
      "3220/3220 [==============================] - 0s 48us/sample - loss: 0.4564 - acc: 0.7801\n",
      "Epoch 30/100\n",
      "3220/3220 [==============================] - 0s 48us/sample - loss: 0.4530 - acc: 0.7798\n",
      "Epoch 31/100\n",
      "3220/3220 [==============================] - 0s 48us/sample - loss: 0.4471 - acc: 0.7885\n",
      "Epoch 32/100\n",
      "3220/3220 [==============================] - 0s 49us/sample - loss: 0.4484 - acc: 0.7885\n",
      "Epoch 33/100\n",
      "3220/3220 [==============================] - 0s 49us/sample - loss: 0.4423 - acc: 0.7826\n",
      "Epoch 34/100\n",
      "3220/3220 [==============================] - 0s 48us/sample - loss: 0.4457 - acc: 0.7767\n",
      "Epoch 35/100\n",
      "3220/3220 [==============================] - 0s 48us/sample - loss: 0.4396 - acc: 0.7901\n",
      "Epoch 36/100\n",
      "3220/3220 [==============================] - 0s 50us/sample - loss: 0.4374 - acc: 0.8003\n",
      "Epoch 37/100\n",
      "3220/3220 [==============================] - 0s 50us/sample - loss: 0.4362 - acc: 0.7950\n",
      "Epoch 38/100\n",
      "3220/3220 [==============================] - 0s 48us/sample - loss: 0.4288 - acc: 0.7957\n",
      "Epoch 39/100\n",
      "3220/3220 [==============================] - 0s 51us/sample - loss: 0.4331 - acc: 0.7950\n",
      "Epoch 40/100\n",
      "3220/3220 [==============================] - 0s 49us/sample - loss: 0.4300 - acc: 0.7966\n",
      "Epoch 41/100\n",
      "3220/3220 [==============================] - 0s 49us/sample - loss: 0.4239 - acc: 0.7997\n",
      "Epoch 42/100\n",
      "3220/3220 [==============================] - 0s 48us/sample - loss: 0.4222 - acc: 0.8009\n",
      "Epoch 43/100\n",
      "3220/3220 [==============================] - 0s 49us/sample - loss: 0.4290 - acc: 0.8006\n",
      "Epoch 44/100\n",
      "3220/3220 [==============================] - 0s 49us/sample - loss: 0.4240 - acc: 0.7969\n",
      "Epoch 45/100\n",
      "3220/3220 [==============================] - 0s 50us/sample - loss: 0.4136 - acc: 0.8065\n",
      "Epoch 46/100\n",
      "3220/3220 [==============================] - 0s 50us/sample - loss: 0.4221 - acc: 0.8006\n",
      "Epoch 47/100\n",
      "3220/3220 [==============================] - 0s 48us/sample - loss: 0.4211 - acc: 0.8012\n",
      "Epoch 48/100\n",
      "3220/3220 [==============================] - 0s 51us/sample - loss: 0.4238 - acc: 0.8025\n",
      "Epoch 49/100\n",
      "3220/3220 [==============================] - 0s 51us/sample - loss: 0.4084 - acc: 0.8093\n",
      "Epoch 50/100\n",
      "3220/3220 [==============================] - 0s 50us/sample - loss: 0.4093 - acc: 0.8053\n",
      "Epoch 51/100\n",
      "3220/3220 [==============================] - 0s 49us/sample - loss: 0.4049 - acc: 0.8084\n",
      "Epoch 52/100\n",
      "3220/3220 [==============================] - 0s 49us/sample - loss: 0.4039 - acc: 0.8031\n",
      "Epoch 53/100\n",
      "3220/3220 [==============================] - 0s 51us/sample - loss: 0.4026 - acc: 0.8127\n",
      "Epoch 54/100\n",
      "3220/3220 [==============================] - 0s 49us/sample - loss: 0.3997 - acc: 0.8093\n",
      "Epoch 55/100\n",
      "3220/3220 [==============================] - 0s 51us/sample - loss: 0.3979 - acc: 0.8093\n",
      "Epoch 56/100\n",
      "3220/3220 [==============================] - 0s 51us/sample - loss: 0.3936 - acc: 0.8143\n",
      "Epoch 57/100\n",
      "3220/3220 [==============================] - 0s 49us/sample - loss: 0.3946 - acc: 0.8124\n",
      "Epoch 58/100\n",
      "3220/3220 [==============================] - 0s 50us/sample - loss: 0.4014 - acc: 0.8121\n",
      "Epoch 59/100\n",
      "3220/3220 [==============================] - 0s 49us/sample - loss: 0.3864 - acc: 0.8171\n",
      "Epoch 60/100\n",
      "3220/3220 [==============================] - 0s 56us/sample - loss: 0.3875 - acc: 0.8214\n",
      "Epoch 61/100\n",
      "3220/3220 [==============================] - 0s 51us/sample - loss: 0.3879 - acc: 0.8177\n",
      "Epoch 62/100\n",
      "3220/3220 [==============================] - 0s 50us/sample - loss: 0.3827 - acc: 0.8227\n",
      "Epoch 63/100\n",
      "3220/3220 [==============================] - 0s 49us/sample - loss: 0.3949 - acc: 0.8161\n",
      "Epoch 64/100\n",
      "3220/3220 [==============================] - 0s 53us/sample - loss: 0.3857 - acc: 0.8177\n",
      "Epoch 65/100\n",
      "3220/3220 [==============================] - 0s 49us/sample - loss: 0.3818 - acc: 0.8224\n",
      "Epoch 66/100\n",
      "3220/3220 [==============================] - 0s 48us/sample - loss: 0.3769 - acc: 0.8304\n",
      "Epoch 67/100\n",
      "3220/3220 [==============================] - 0s 51us/sample - loss: 0.3780 - acc: 0.8267\n",
      "Epoch 68/100\n",
      "3220/3220 [==============================] - 0s 52us/sample - loss: 0.3726 - acc: 0.8286\n",
      "Epoch 69/100\n",
      "3220/3220 [==============================] - 0s 50us/sample - loss: 0.3699 - acc: 0.8270\n",
      "Epoch 70/100\n",
      "3220/3220 [==============================] - 0s 48us/sample - loss: 0.3703 - acc: 0.8307\n",
      "Epoch 71/100\n",
      "3220/3220 [==============================] - 0s 51us/sample - loss: 0.3675 - acc: 0.8304\n",
      "Epoch 72/100\n",
      "3220/3220 [==============================] - 0s 49us/sample - loss: 0.3710 - acc: 0.8255\n",
      "Epoch 73/100\n",
      "3220/3220 [==============================] - 0s 52us/sample - loss: 0.3668 - acc: 0.8230\n",
      "Epoch 74/100\n",
      "3220/3220 [==============================] - 0s 50us/sample - loss: 0.3740 - acc: 0.8273\n",
      "Epoch 75/100\n",
      "3220/3220 [==============================] - 0s 51us/sample - loss: 0.3704 - acc: 0.8214\n",
      "Epoch 76/100\n",
      "3220/3220 [==============================] - 0s 51us/sample - loss: 0.3595 - acc: 0.8379\n",
      "Epoch 77/100\n",
      "3220/3220 [==============================] - 0s 48us/sample - loss: 0.3574 - acc: 0.8339\n",
      "Epoch 78/100\n",
      "3220/3220 [==============================] - 0s 50us/sample - loss: 0.3575 - acc: 0.8382\n",
      "Epoch 79/100\n",
      "3220/3220 [==============================] - 0s 50us/sample - loss: 0.3496 - acc: 0.8429\n",
      "Epoch 80/100\n",
      "3220/3220 [==============================] - 0s 48us/sample - loss: 0.3557 - acc: 0.8388\n",
      "Epoch 81/100\n"
     ]
    },
    {
     "name": "stdout",
     "output_type": "stream",
     "text": [
      "3220/3220 [==============================] - 0s 50us/sample - loss: 0.3548 - acc: 0.8332\n",
      "Epoch 82/100\n",
      "3220/3220 [==============================] - 0s 46us/sample - loss: 0.3451 - acc: 0.8379\n",
      "Epoch 83/100\n",
      "3220/3220 [==============================] - 0s 47us/sample - loss: 0.3426 - acc: 0.8435\n",
      "Epoch 84/100\n",
      "3220/3220 [==============================] - 0s 47us/sample - loss: 0.3427 - acc: 0.8429\n",
      "Epoch 85/100\n",
      "3220/3220 [==============================] - 0s 47us/sample - loss: 0.3374 - acc: 0.8457\n",
      "Epoch 86/100\n",
      "3220/3220 [==============================] - 0s 47us/sample - loss: 0.3354 - acc: 0.8435\n",
      "Epoch 87/100\n",
      "3220/3220 [==============================] - 0s 47us/sample - loss: 0.3361 - acc: 0.8385\n",
      "Epoch 88/100\n",
      "3220/3220 [==============================] - 0s 46us/sample - loss: 0.3325 - acc: 0.8484\n",
      "Epoch 89/100\n",
      "3220/3220 [==============================] - 0s 46us/sample - loss: 0.3370 - acc: 0.8425\n",
      "Epoch 90/100\n",
      "3220/3220 [==============================] - 0s 46us/sample - loss: 0.3404 - acc: 0.8419\n",
      "Epoch 91/100\n",
      "3220/3220 [==============================] - 0s 47us/sample - loss: 0.3293 - acc: 0.8463\n",
      "Epoch 92/100\n",
      "3220/3220 [==============================] - 0s 46us/sample - loss: 0.3219 - acc: 0.8540\n",
      "Epoch 93/100\n",
      "3220/3220 [==============================] - 0s 45us/sample - loss: 0.3184 - acc: 0.8575\n",
      "Epoch 94/100\n",
      "3220/3220 [==============================] - 0s 49us/sample - loss: 0.3181 - acc: 0.8581\n",
      "Epoch 95/100\n",
      "3220/3220 [==============================] - 0s 47us/sample - loss: 0.3235 - acc: 0.8506\n",
      "Epoch 96/100\n",
      "3220/3220 [==============================] - 0s 46us/sample - loss: 0.3220 - acc: 0.8559\n",
      "Epoch 97/100\n",
      "3220/3220 [==============================] - 0s 46us/sample - loss: 0.3206 - acc: 0.8543\n",
      "Epoch 98/100\n",
      "3220/3220 [==============================] - 0s 47us/sample - loss: 0.3085 - acc: 0.8562\n",
      "Epoch 99/100\n",
      "3220/3220 [==============================] - 0s 47us/sample - loss: 0.2992 - acc: 0.8649\n",
      "Epoch 100/100\n",
      "3220/3220 [==============================] - 0s 46us/sample - loss: 0.3067 - acc: 0.8587\n",
      "806/806 [==============================] - 0s 235us/sample - loss: 0.6992 - acc: 0.7246\n",
      "[0.699151922100531, 0.72456574]\n",
      "Classification Report: \n",
      "               precision    recall  f1-score   support\n",
      "\n",
      "           0       0.70      0.77      0.73       398\n",
      "           1       0.75      0.68      0.71       408\n",
      "\n",
      "    accuracy                           0.72       806\n",
      "   macro avg       0.73      0.73      0.72       806\n",
      "weighted avg       0.73      0.72      0.72       806\n",
      "\n"
     ]
    }
   ],
   "source": [
    "y_pred3=ANN(X_train,y_train,X_test,y_test,'binary_crossentropy',-1)"
   ]
  },
  {
   "cell_type": "code",
   "execution_count": 199,
   "metadata": {},
   "outputs": [
    {
     "data": {
      "text/plain": [
       "1    2037\n",
       "0    1991\n",
       "Name: Exited, dtype: int64"
      ]
     },
     "execution_count": 199,
     "metadata": {},
     "output_type": "execute_result"
    }
   ],
   "source": [
    "X_en_3,y_en_3=get_train_batch(df3_class0,df3_class1,5972,7963)\n",
    "y_en_3.value_counts()"
   ]
  },
  {
   "cell_type": "code",
   "execution_count": 200,
   "metadata": {},
   "outputs": [
    {
     "data": {
      "text/plain": [
       "(846, 11)"
      ]
     },
     "execution_count": 200,
     "metadata": {},
     "output_type": "execute_result"
    }
   ],
   "source": [
    "X_train,X_test,y_train,y_test=train_test_split(X_en_3,y_en_3,random_state=15,stratify=y_en_3,test_size=0.21)\n",
    "X_test.shape"
   ]
  },
  {
   "cell_type": "code",
   "execution_count": 201,
   "metadata": {},
   "outputs": [
    {
     "name": "stdout",
     "output_type": "stream",
     "text": [
      "Epoch 1/100\n",
      "3182/3182 [==============================] - 0s 130us/sample - loss: 0.6792 - acc: 0.5701\n",
      "Epoch 2/100\n",
      "3182/3182 [==============================] - 0s 48us/sample - loss: 0.6420 - acc: 0.6364\n",
      "Epoch 3/100\n",
      "3182/3182 [==============================] - 0s 53us/sample - loss: 0.5998 - acc: 0.6820\n",
      "Epoch 4/100\n",
      "3182/3182 [==============================] - 0s 51us/sample - loss: 0.5578 - acc: 0.7165\n",
      "Epoch 5/100\n",
      "3182/3182 [==============================] - 0s 51us/sample - loss: 0.5334 - acc: 0.7351\n",
      "Epoch 6/100\n",
      "3182/3182 [==============================] - 0s 51us/sample - loss: 0.5147 - acc: 0.7420\n",
      "Epoch 7/100\n",
      "3182/3182 [==============================] - 0s 51us/sample - loss: 0.5032 - acc: 0.7517\n",
      "Epoch 8/100\n",
      "3182/3182 [==============================] - 0s 52us/sample - loss: 0.5032 - acc: 0.7492\n",
      "Epoch 9/100\n",
      "3182/3182 [==============================] - 0s 52us/sample - loss: 0.4999 - acc: 0.7527\n",
      "Epoch 10/100\n",
      "3182/3182 [==============================] - 0s 51us/sample - loss: 0.4804 - acc: 0.7656\n",
      "Epoch 11/100\n",
      "3182/3182 [==============================] - 0s 52us/sample - loss: 0.4833 - acc: 0.7599\n",
      "Epoch 12/100\n",
      "3182/3182 [==============================] - 0s 52us/sample - loss: 0.4798 - acc: 0.7652\n",
      "Epoch 13/100\n",
      "3182/3182 [==============================] - 0s 51us/sample - loss: 0.4760 - acc: 0.7715\n",
      "Epoch 14/100\n",
      "3182/3182 [==============================] - 0s 53us/sample - loss: 0.4734 - acc: 0.7693\n",
      "Epoch 15/100\n",
      "3182/3182 [==============================] - 0s 51us/sample - loss: 0.4712 - acc: 0.7703\n",
      "Epoch 16/100\n",
      "3182/3182 [==============================] - 0s 54us/sample - loss: 0.4757 - acc: 0.7740\n",
      "Epoch 17/100\n",
      "3182/3182 [==============================] - 0s 53us/sample - loss: 0.4661 - acc: 0.7747\n",
      "Epoch 18/100\n",
      "3182/3182 [==============================] - 0s 52us/sample - loss: 0.4670 - acc: 0.7772\n",
      "Epoch 19/100\n",
      "3182/3182 [==============================] - 0s 52us/sample - loss: 0.4607 - acc: 0.7803\n",
      "Epoch 20/100\n",
      "3182/3182 [==============================] - 0s 52us/sample - loss: 0.4719 - acc: 0.7712\n",
      "Epoch 21/100\n",
      "3182/3182 [==============================] - ETA: 0s - loss: 0.4622 - acc: 0.775 - 0s 54us/sample - loss: 0.4591 - acc: 0.7756\n",
      "Epoch 22/100\n",
      "3182/3182 [==============================] - 0s 53us/sample - loss: 0.4592 - acc: 0.7791\n",
      "Epoch 23/100\n",
      "3182/3182 [==============================] - 0s 53us/sample - loss: 0.4591 - acc: 0.7772\n",
      "Epoch 24/100\n",
      "3182/3182 [==============================] - 0s 55us/sample - loss: 0.4615 - acc: 0.7797\n",
      "Epoch 25/100\n",
      "3182/3182 [==============================] - 0s 56us/sample - loss: 0.4538 - acc: 0.7797\n",
      "Epoch 26/100\n",
      "3182/3182 [==============================] - 0s 51us/sample - loss: 0.4536 - acc: 0.7810\n",
      "Epoch 27/100\n",
      "3182/3182 [==============================] - 0s 57us/sample - loss: 0.4601 - acc: 0.7734\n",
      "Epoch 28/100\n",
      "3182/3182 [==============================] - 0s 53us/sample - loss: 0.4454 - acc: 0.7866\n",
      "Epoch 29/100\n",
      "3182/3182 [==============================] - 0s 53us/sample - loss: 0.4419 - acc: 0.7898\n",
      "Epoch 30/100\n",
      "3182/3182 [==============================] - 0s 52us/sample - loss: 0.4408 - acc: 0.7910\n",
      "Epoch 31/100\n",
      "3182/3182 [==============================] - 0s 52us/sample - loss: 0.4409 - acc: 0.7885\n",
      "Epoch 32/100\n",
      "3182/3182 [==============================] - 0s 51us/sample - loss: 0.4409 - acc: 0.7916\n",
      "Epoch 33/100\n",
      "3182/3182 [==============================] - 0s 51us/sample - loss: 0.4360 - acc: 0.7964\n",
      "Epoch 34/100\n",
      "3182/3182 [==============================] - 0s 50us/sample - loss: 0.4275 - acc: 0.7957\n",
      "Epoch 35/100\n",
      "3182/3182 [==============================] - 0s 50us/sample - loss: 0.4272 - acc: 0.7995\n",
      "Epoch 36/100\n",
      "3182/3182 [==============================] - 0s 51us/sample - loss: 0.4227 - acc: 0.7992\n",
      "Epoch 37/100\n",
      "3182/3182 [==============================] - 0s 52us/sample - loss: 0.4235 - acc: 0.8030\n",
      "Epoch 38/100\n",
      "3182/3182 [==============================] - 0s 53us/sample - loss: 0.4273 - acc: 0.8001\n",
      "Epoch 39/100\n",
      "3182/3182 [==============================] - 0s 51us/sample - loss: 0.4174 - acc: 0.8048\n",
      "Epoch 40/100\n",
      "3182/3182 [==============================] - 0s 52us/sample - loss: 0.4210 - acc: 0.8026\n",
      "Epoch 41/100\n",
      "3182/3182 [==============================] - 0s 51us/sample - loss: 0.4128 - acc: 0.8055\n",
      "Epoch 42/100\n",
      "3182/3182 [==============================] - 0s 52us/sample - loss: 0.4111 - acc: 0.8074\n",
      "Epoch 43/100\n",
      "3182/3182 [==============================] - 0s 50us/sample - loss: 0.4092 - acc: 0.8080\n",
      "Epoch 44/100\n",
      "3182/3182 [==============================] - 0s 51us/sample - loss: 0.4156 - acc: 0.8030\n",
      "Epoch 45/100\n",
      "3182/3182 [==============================] - 0s 52us/sample - loss: 0.4100 - acc: 0.8092\n",
      "Epoch 46/100\n",
      "3182/3182 [==============================] - 0s 51us/sample - loss: 0.4028 - acc: 0.8114\n",
      "Epoch 47/100\n",
      "3182/3182 [==============================] - 0s 51us/sample - loss: 0.4003 - acc: 0.8184\n",
      "Epoch 48/100\n",
      "3182/3182 [==============================] - 0s 58us/sample - loss: 0.4024 - acc: 0.8158\n",
      "Epoch 49/100\n",
      "3182/3182 [==============================] - 0s 63us/sample - loss: 0.4031 - acc: 0.8089\n",
      "Epoch 50/100\n",
      "3182/3182 [==============================] - 0s 57us/sample - loss: 0.3938 - acc: 0.8171\n",
      "Epoch 51/100\n",
      "3182/3182 [==============================] - 0s 55us/sample - loss: 0.3977 - acc: 0.8118\n",
      "Epoch 52/100\n",
      "3182/3182 [==============================] - 0s 53us/sample - loss: 0.3938 - acc: 0.8184\n",
      "Epoch 53/100\n",
      "3182/3182 [==============================] - 0s 61us/sample - loss: 0.4023 - acc: 0.8171\n",
      "Epoch 54/100\n",
      "3182/3182 [==============================] - 0s 68us/sample - loss: 0.3895 - acc: 0.8187\n",
      "Epoch 55/100\n",
      "3182/3182 [==============================] - 0s 68us/sample - loss: 0.3872 - acc: 0.8168\n",
      "Epoch 56/100\n",
      "3182/3182 [==============================] - 0s 63us/sample - loss: 0.3786 - acc: 0.8224\n",
      "Epoch 57/100\n",
      "3182/3182 [==============================] - 0s 51us/sample - loss: 0.3790 - acc: 0.8218\n",
      "Epoch 58/100\n",
      "3182/3182 [==============================] - 0s 51us/sample - loss: 0.3787 - acc: 0.8231\n",
      "Epoch 59/100\n",
      "3182/3182 [==============================] - 0s 52us/sample - loss: 0.3799 - acc: 0.8215\n",
      "Epoch 60/100\n",
      "3182/3182 [==============================] - ETA: 0s - loss: 0.3677 - acc: 0.828 - 0s 55us/sample - loss: 0.3759 - acc: 0.8246\n",
      "Epoch 61/100\n",
      "3182/3182 [==============================] - 0s 53us/sample - loss: 0.3740 - acc: 0.8250\n",
      "Epoch 62/100\n",
      "3182/3182 [==============================] - 0s 52us/sample - loss: 0.3771 - acc: 0.8196\n",
      "Epoch 63/100\n",
      "3182/3182 [==============================] - 0s 52us/sample - loss: 0.3727 - acc: 0.8268\n",
      "Epoch 64/100\n",
      "3182/3182 [==============================] - 0s 52us/sample - loss: 0.3648 - acc: 0.8319\n",
      "Epoch 65/100\n",
      "3182/3182 [==============================] - 0s 53us/sample - loss: 0.3725 - acc: 0.8262\n",
      "Epoch 66/100\n",
      "3182/3182 [==============================] - 0s 53us/sample - loss: 0.3662 - acc: 0.8268\n",
      "Epoch 67/100\n",
      "3182/3182 [==============================] - 0s 53us/sample - loss: 0.3661 - acc: 0.8284\n",
      "Epoch 68/100\n",
      "3182/3182 [==============================] - 0s 53us/sample - loss: 0.3598 - acc: 0.8353\n",
      "Epoch 69/100\n",
      "3182/3182 [==============================] - 0s 49us/sample - loss: 0.3533 - acc: 0.8391\n",
      "Epoch 70/100\n",
      "3182/3182 [==============================] - 0s 50us/sample - loss: 0.3590 - acc: 0.8341\n",
      "Epoch 71/100\n",
      "3182/3182 [==============================] - 0s 51us/sample - loss: 0.3606 - acc: 0.8331\n",
      "Epoch 72/100\n",
      "3182/3182 [==============================] - 0s 52us/sample - loss: 0.3525 - acc: 0.8391\n",
      "Epoch 73/100\n",
      "3182/3182 [==============================] - 0s 52us/sample - loss: 0.3597 - acc: 0.8347\n",
      "Epoch 74/100\n",
      "3182/3182 [==============================] - 0s 51us/sample - loss: 0.3513 - acc: 0.8378\n",
      "Epoch 75/100\n",
      "3182/3182 [==============================] - 0s 52us/sample - loss: 0.3530 - acc: 0.8344\n",
      "Epoch 76/100\n",
      "3182/3182 [==============================] - 0s 51us/sample - loss: 0.3488 - acc: 0.8416\n",
      "Epoch 77/100\n",
      "3182/3182 [==============================] - 0s 51us/sample - loss: 0.3429 - acc: 0.8435\n",
      "Epoch 78/100\n",
      "3182/3182 [==============================] - 0s 52us/sample - loss: 0.3425 - acc: 0.8429\n",
      "Epoch 79/100\n",
      "3182/3182 [==============================] - 0s 50us/sample - loss: 0.3400 - acc: 0.8444\n",
      "Epoch 80/100\n"
     ]
    },
    {
     "name": "stdout",
     "output_type": "stream",
     "text": [
      "3182/3182 [==============================] - 0s 51us/sample - loss: 0.3402 - acc: 0.8378\n",
      "Epoch 81/100\n",
      "3182/3182 [==============================] - 0s 49us/sample - loss: 0.3416 - acc: 0.8429\n",
      "Epoch 82/100\n",
      "3182/3182 [==============================] - 0s 48us/sample - loss: 0.3434 - acc: 0.8454\n",
      "Epoch 83/100\n",
      "3182/3182 [==============================] - 0s 50us/sample - loss: 0.3403 - acc: 0.8451\n",
      "Epoch 84/100\n",
      "3182/3182 [==============================] - 0s 49us/sample - loss: 0.3353 - acc: 0.8419\n",
      "Epoch 85/100\n",
      "3182/3182 [==============================] - 0s 50us/sample - loss: 0.3270 - acc: 0.8520\n",
      "Epoch 86/100\n",
      "3182/3182 [==============================] - 0s 50us/sample - loss: 0.3306 - acc: 0.8488\n",
      "Epoch 87/100\n",
      "3182/3182 [==============================] - 0s 47us/sample - loss: 0.3274 - acc: 0.8495\n",
      "Epoch 88/100\n",
      "3182/3182 [==============================] - 0s 48us/sample - loss: 0.3282 - acc: 0.8523\n",
      "Epoch 89/100\n",
      "3182/3182 [==============================] - 0s 50us/sample - loss: 0.3261 - acc: 0.8501\n",
      "Epoch 90/100\n",
      "3182/3182 [==============================] - 0s 49us/sample - loss: 0.3228 - acc: 0.8526\n",
      "Epoch 91/100\n",
      "3182/3182 [==============================] - 0s 49us/sample - loss: 0.3146 - acc: 0.8602\n",
      "Epoch 92/100\n",
      "3182/3182 [==============================] - 0s 49us/sample - loss: 0.3192 - acc: 0.8548\n",
      "Epoch 93/100\n",
      "3182/3182 [==============================] - 0s 48us/sample - loss: 0.3120 - acc: 0.8573\n",
      "Epoch 94/100\n",
      "3182/3182 [==============================] - 0s 49us/sample - loss: 0.3144 - acc: 0.8561\n",
      "Epoch 95/100\n",
      "3182/3182 [==============================] - 0s 48us/sample - loss: 0.3066 - acc: 0.8583\n",
      "Epoch 96/100\n",
      "3182/3182 [==============================] - 0s 49us/sample - loss: 0.3172 - acc: 0.8526\n",
      "Epoch 97/100\n",
      "3182/3182 [==============================] - 0s 49us/sample - loss: 0.3233 - acc: 0.8573\n",
      "Epoch 98/100\n",
      "3182/3182 [==============================] - 0s 49us/sample - loss: 0.3124 - acc: 0.8564\n",
      "Epoch 99/100\n",
      "3182/3182 [==============================] - 0s 49us/sample - loss: 0.3076 - acc: 0.8498\n",
      "Epoch 100/100\n",
      "3182/3182 [==============================] - 0s 48us/sample - loss: 0.3156 - acc: 0.8567\n",
      "846/846 [==============================] - 0s 227us/sample - loss: 0.7280 - acc: 0.7270\n",
      "[0.7279909484211716, 0.72695035]\n",
      "Classification Report: \n",
      "               precision    recall  f1-score   support\n",
      "\n",
      "           0       0.71      0.77      0.73       418\n",
      "           1       0.75      0.69      0.72       428\n",
      "\n",
      "    accuracy                           0.73       846\n",
      "   macro avg       0.73      0.73      0.73       846\n",
      "weighted avg       0.73      0.73      0.73       846\n",
      "\n"
     ]
    }
   ],
   "source": [
    "y_pred4=ANN(X_train,y_train,X_test,y_test,'binary_crossentropy',-1)"
   ]
  },
  {
   "cell_type": "code",
   "execution_count": 202,
   "metadata": {},
   "outputs": [
    {
     "data": {
      "text/plain": [
       "846"
      ]
     },
     "execution_count": 202,
     "metadata": {},
     "output_type": "execute_result"
    }
   ],
   "source": [
    "len(y_test)"
   ]
  },
  {
   "cell_type": "code",
   "execution_count": 203,
   "metadata": {},
   "outputs": [
    {
     "data": {
      "text/plain": [
       "(806, 1)"
      ]
     },
     "execution_count": 203,
     "metadata": {},
     "output_type": "execute_result"
    }
   ],
   "source": [
    "y_pred3.shape\n"
   ]
  },
  {
   "cell_type": "code",
   "execution_count": 204,
   "metadata": {},
   "outputs": [
    {
     "data": {
      "text/plain": [
       "(846,)"
      ]
     },
     "execution_count": 204,
     "metadata": {},
     "output_type": "execute_result"
    }
   ],
   "source": [
    "y_pred_final=y_pred1.copy()\n",
    "\n",
    "for i in range(len(y_pred1)):\n",
    "    n_ones=y_pred1[i]+y_pred2[i]+y_pred3[i]\n",
    "    if n_ones>1:\n",
    "        y_pred_final[i]=1\n",
    "    else:\n",
    "        y_pred_final[i]=0\n",
    "\n",
    "y_test.shape "
   ]
  },
  {
   "cell_type": "code",
   "execution_count": 206,
   "metadata": {},
   "outputs": [
    {
     "name": "stdout",
     "output_type": "stream",
     "text": [
      "              precision    recall  f1-score   support\n",
      "\n",
      "           0       0.47      0.50      0.49       399\n",
      "           1       0.48      0.45      0.47       407\n",
      "\n",
      "    accuracy                           0.48       806\n",
      "   macro avg       0.48      0.48      0.48       806\n",
      "weighted avg       0.48      0.48      0.48       806\n",
      "\n"
     ]
    }
   ],
   "source": [
    "print(classification_report(y_test[:806],y_pred_final))"
   ]
  },
  {
   "cell_type": "markdown",
   "metadata": {},
   "source": [
    "So, based on all possible techniques \"Over Sampling Technique\" and \"SMOTE\" has performed the best. Hence, we can use either of the models to predict probable \n",
    "customers with churn possibility."
   ]
  },
  {
   "cell_type": "code",
   "execution_count": null,
   "metadata": {},
   "outputs": [],
   "source": []
  }
 ],
 "metadata": {
  "kernelspec": {
   "display_name": "Python 3",
   "language": "python",
   "name": "python3"
  },
  "language_info": {
   "codemirror_mode": {
    "name": "ipython",
    "version": 3
   },
   "file_extension": ".py",
   "mimetype": "text/x-python",
   "name": "python",
   "nbconvert_exporter": "python",
   "pygments_lexer": "ipython3",
   "version": "3.7.9"
  }
 },
 "nbformat": 4,
 "nbformat_minor": 4
}
